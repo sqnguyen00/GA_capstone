{
 "cells": [
  {
   "cell_type": "code",
   "execution_count": null,
   "metadata": {},
   "outputs": [],
   "source": [
    "#Rock\n",
    "name = ['Coldplay', 'Twenty One Pilots', 'The Beatles', 'Linkin Park', 'Red Hot Chili Peppers', 'Panic! A The Disco', 'Metallica', 'Arctic Monkeys', 'Queen', 'Fall Out Boy', 'Green Day', 'AC/DC', 'Pink Floyd', 'Blink-182', 'Paramore', \"Guns N’ Roses\", 'Nirvana', 'The Rolling Stones', 'The 1975', 'Kings of Leon']"
   ]
  },
  {
   "cell_type": "code",
   "execution_count": 1,
   "metadata": {},
   "outputs": [],
   "source": [
    "#pop\n",
    "pop = ['Post Malone', 'The Weeknd' 'The Kid LAROI', 'Justin Bieber', 'Ariana Grande', 'Ed Sheeran', 'Taylor Swift', 'Selena Gomez', 'ZAYN', 'Elton John', 'Dua Lipa', 'PNAU', 'Gym Class Heroes', 'Adam Levine', 'Miley Cyrus', 'Shawn Mendes', 'Post Malone', 'Billie Eilish', 'Khalid', 'Demi Lovato', 'Sam Smith', 'Doja Cat', 'Lil Nas X', 'Jack Harlow', 'Chris Brown', 'Drake', 'Olivia Rodrigo']"
   ]
  },
  {
   "cell_type": "code",
   "execution_count": 3,
   "metadata": {},
   "outputs": [],
   "source": [
    "rap = ['Kendrick Lamar', 'Pusha T', 'Kodak Black', 'XXXTentacion', 'Eminem', 'Meek Mill', 'Tory Lanez', 'Offset', ' Lil Baby', 'Gucci Mane', 'Future', 'French Montana', '21 Savage', ' A Boogie Wit da Hoodie', 'Jay Rock', 'Nippsy Hussle', 'Gunna', 'Travis Scott', '6ix9ine']"
   ]
  },
  {
   "cell_type": "code",
   "execution_count": 4,
   "metadata": {},
   "outputs": [
    {
     "data": {
      "text/plain": [
       "set()"
      ]
     },
     "execution_count": 4,
     "metadata": {},
     "output_type": "execute_result"
    }
   ],
   "source": [
    "set(pop) & set(rap)"
   ]
  },
  {
   "cell_type": "code",
   "execution_count": null,
   "metadata": {},
   "outputs": [],
   "source": []
  },
  {
   "cell_type": "code",
   "execution_count": null,
   "metadata": {},
   "outputs": [],
   "source": []
  }
 ],
 "metadata": {
  "interpreter": {
   "hash": "3cb97f1d83f7509b06d804007dcb96c6ab417962c4fd7570dc4f1a7dc82dce2f"
  },
  "kernelspec": {
   "display_name": "Python 3.8.8 64-bit ('dsi-111': conda)",
   "language": "python",
   "name": "python3"
  },
  "language_info": {
   "codemirror_mode": {
    "name": "ipython",
    "version": 3
   },
   "file_extension": ".py",
   "mimetype": "text/x-python",
   "name": "python",
   "nbconvert_exporter": "python",
   "pygments_lexer": "ipython3",
   "version": "3.8.8"
  },
  "orig_nbformat": 4
 },
 "nbformat": 4,
 "nbformat_minor": 2
}
