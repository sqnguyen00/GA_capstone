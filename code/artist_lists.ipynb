{
 "cells": [
  {
   "cell_type": "code",
   "execution_count": 14,
   "metadata": {},
   "outputs": [],
   "source": [
    "#Rock\n",
    "name = ['Coldplay', 'Twenty One Pilots', 'The Beatles', 'Linkin Park', 'Red Hot Chili Peppers', 'Panic! A The Disco', 'Metallica', 'Arctic Monkeys', 'Queen', 'Fall Out Boy', 'Green Day', 'AC/DC', 'Pink Floyd', 'Blink-182', 'Paramore', \"Guns N’ Roses\", 'Nirvana', 'The Rolling Stones', 'The 1975', 'Kings of Leon']"
   ]
  },
  {
   "cell_type": "code",
   "execution_count": 15,
   "metadata": {},
   "outputs": [],
   "source": [
    "#pop\n",
    "pop = ['Post Malone', 'The Weeknd' 'The Kid LAROI', 'Justin Bieber', 'Ariana Grande', 'Ed Sheeran', 'Taylor Swift', 'Selena Gomez', 'ZAYN', 'Elton John', 'Dua Lipa', 'PNAU', 'Gym Class Heroes', 'Adam Levine', 'Miley Cyrus', 'Shawn Mendes', 'Post Malone', 'Billie Eilish', 'Khalid', 'Demi Lovato', 'Sam Smith', 'Doja Cat', 'Lil Nas X', 'Jack Harlow', 'Chris Brown', 'Drake', 'Olivia Rodrigo']"
   ]
  },
  {
   "cell_type": "code",
   "execution_count": 16,
   "metadata": {},
   "outputs": [],
   "source": [
    "rap = ['Kendrick Lamar', 'Pusha T', 'Kodak Black', 'XXXTentacion', 'Eminem', 'Meek Mill', 'Tory Lanez', 'Offset', ' Lil Baby', 'Gucci Mane', 'Future', 'French Montana', '21 Savage', ' A Boogie Wit da Hoodie', 'Jay Rock', 'Nippsy Hussle', 'Gunna', 'Travis Scott', '6ix9ine']"
   ]
  },
  {
   "cell_type": "code",
   "execution_count": 17,
   "metadata": {},
   "outputs": [
    {
     "data": {
      "text/plain": [
       "set()"
      ]
     },
     "execution_count": 17,
     "metadata": {},
     "output_type": "execute_result"
    }
   ],
   "source": [
    "set(pop) & set(rap)"
   ]
  },
  {
   "cell_type": "code",
   "execution_count": 18,
   "metadata": {},
   "outputs": [],
   "source": [
    "edm = ['A-Trak', 'Aaron Jackson', 'Above & Beyond', 'Adventure Club', 'Afrojack', 'Aiden Jude', 'Alesso', 'Alex Metric', 'AlunaGeorge', 'AraabMUZIK', 'Archie', 'Armin van Buuren', 'Arty', 'At Dawn We Rage', 'ATB', 'Audien', 'Autograf', 'Avicii', 'Axwell', 'Aylen']"
   ]
  },
  {
   "cell_type": "code",
   "execution_count": 19,
   "metadata": {},
   "outputs": [],
   "source": [
    "edm2 = ['Baauer', 'Bassnectar', 'Bearson', 'Benny Benassi', 'Big Gigantic', 'Bingo Players', 'Bixel Boys', 'Borgeous', 'Borgore', 'Boys Noize', 'Bro Safari', 'BT']"
   ]
  },
  {
   "cell_type": "code",
   "execution_count": 20,
   "metadata": {},
   "outputs": [],
   "source": [
    "edm3 = ['Calvin Harris', 'Candyland', 'Caribou', 'Carnage', 'Cash Cash', 'Cashmere Cat', 'Cazzette', 'Charli XCX', 'Charlie Darker', 'Chet Faker', 'Chromeo', 'Chuckie', 'Cosmic Gate', 'Crizzly', 'CRNKN']"
   ]
  },
  {
   "cell_type": "code",
   "execution_count": 21,
   "metadata": {},
   "outputs": [],
   "source": [
    "edm4 = ['CloZee', 'Dada Life', 'Daft Punk', 'Darude', 'Datsik', 'Dash Berlin', 'David Guetta', 'Deadmau5', 'Deorro', 'Dimitri Vegas & Like Mike', 'Disco Fries',  'Disclosure', 'DJ Snake', 'DjembA DJemba', 'Duke Dumont', 'DVBBS', 'Dyro']"
   ]
  },
  {
   "cell_type": "code",
   "execution_count": 22,
   "metadata": {},
   "outputs": [],
   "source": [
    "random_pull = ['gardenstate',\n",
    " 'Enchanting',\n",
    " 'Andrew Bayer',\n",
    " 'Andrew Rayel',\n",
    " 'Sunny Lax',\n",
    " 'Orjan Nilsen',\n",
    " '\"Maddy ONeal\"',\n",
    " 'Tinlicker',\n",
    " 'Ilan Bluestone',\n",
    " 'Bino Rideaux',\n",
    " 'Chicane',\n",
    " 'Gareth Emery',\n",
    " 'Gabriel & Dresden',\n",
    " 'Snoop Dogg',\n",
    " 'Bass Santana',\n",
    " 'George Martin',\n",
    " 'Markus Schulz',\n",
    " 'KIDS SEE GHOSTS',\n",
    " 'Jaytech',\n",
    " 'Ahmed Helmy',\n",
    " 'Richard Durand',\n",
    " 'Pooh Shiesty',\n",
    " 'Rub!k',\n",
    " '\"John OCallaghan\"',\n",
    " 'Zacari',\n",
    " 'Will Sparks',\n",
    " 'Alexander Popov',\n",
    " 'JACKBOYS',\n",
    " 'Wankelmut',\n",
    " 'Paul Thomas',\n",
    " 'ID',\n",
    " 'MOGUAI',\n",
    " 'Sam Fischer',\n",
    " 'Selena Gomez & The Scene',\n",
    " 'Ben Platt',\n",
    " 'Greenhaven DJs',\n",
    " 'Lil Wyte',\n",
    " 'Mauro Picotto',\n",
    " 'Kid Trunks',\n",
    " 'Genix',\n",
    " 'Cooliecut',\n",
    " 'Rank 1',\n",
    " 'David Forbes'"
   ]
  },
  {
   "cell_type": "code",
   "execution_count": 24,
   "metadata": {},
   "outputs": [],
   "source": [
    "random_pull2 =['Patrick White',\n",
    " 'Spencer Brown',\n",
    " 'Sine',\n",
    " 'Junior Caldera',\n",
    " 'Benny Benassi feat. Gary Go',\n",
    " 'Kholebeatz',\n",
    " '3OH!3',\n",
    " 'Ferry Corsten',\n",
    " 'Vincent de Moor',\n",
    " 'Lee Peters',\n",
    " 'Lil Uzi Vert',\n",
    " 'Grum',\n",
    " 'Jessie Ware',\n",
    " 'Maor Levi',\n",
    " 'ATB with Amurai',\n",
    " 'Jessie J',\n",
    " 'Cheat Codes',\n",
    " 'Hermitude',\n",
    " 'York',\n",
    " 'Rudimental',\n",
    " 'W&W',\n",
    " 'Yotto',\n",
    " 'Alex M.O.R.P.H.',\n",
    " 'Timbaland',\n",
    " 'Beatsole',\n",
    " 'CNCO',\n",
    " 'ReOrder',\n",
    " 'HamzeH',\n",
    " 'ARTY',\n",
    " 'Sunlounger']"
   ]
  },
  {
   "cell_type": "code",
   "execution_count": 29,
   "metadata": {},
   "outputs": [],
   "source": [
    "edm5 = ['Elk Road',\n",
    "'Ellie Goulding',\n",
    "'Excision',\n",
    "'Fedde Le Grand',\n",
    "'Feed Me (Spor)',\n",
    "'FIGURE',\n",
    "'Flosstradamus',\n",
    "'Flume',\n",
    "'Flux Pavilion',\n",
    "'Frankie Knuckles',\n",
    "'gLAdiator',\n",
    "'Gorgon City',\n",
    "'Gramatik',\n",
    "'GRiZ',\n",
    "'Hardwell',\n",
    "'heRobust',\n",
    "'Hyper Crush',\n",
    "'Infected Mushroom',\n",
    "'Jack U',\n",
    "'James Egbert',\n",
    "'Jamie Berry',\n",
    "'Justice',\n",
    "'Justin Martin',\n",
    "'Kap Slap',\n",
    "'Kastle',\n",
    "'Kaytranada',\n",
    "'KDrew',\n",
    "'Keys N Krates',\n",
    "'Kill Paris',\n",
    "'Kill The Noise',\n",
    "'Kungs',\n",
    "'Knife Party',\n",
    "'Kygo']"
   ]
  },
  {
   "cell_type": "code",
   "execution_count": 30,
   "metadata": {},
   "outputs": [
    {
     "data": {
      "text/plain": [
       "[]"
      ]
     },
     "execution_count": 30,
     "metadata": {},
     "output_type": "execute_result"
    }
   ],
   "source": [
    "list(set(random_pull).intersection(set(edm5)))\n"
   ]
  },
  {
   "cell_type": "code",
   "execution_count": null,
   "metadata": {},
   "outputs": [],
   "source": []
  }
 ],
 "metadata": {
  "interpreter": {
   "hash": "3cb97f1d83f7509b06d804007dcb96c6ab417962c4fd7570dc4f1a7dc82dce2f"
  },
  "kernelspec": {
   "display_name": "Python 3.8.8 64-bit ('dsi-111': conda)",
   "language": "python",
   "name": "python3"
  },
  "language_info": {
   "codemirror_mode": {
    "name": "ipython",
    "version": 3
   },
   "file_extension": ".py",
   "mimetype": "text/x-python",
   "name": "python",
   "nbconvert_exporter": "python",
   "pygments_lexer": "ipython3",
   "version": "3.8.8"
  },
  "orig_nbformat": 4
 },
 "nbformat": 4,
 "nbformat_minor": 2
}
