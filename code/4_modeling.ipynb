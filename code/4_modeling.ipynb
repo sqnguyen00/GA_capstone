{
 "cells": [
  {
   "cell_type": "code",
   "execution_count": 376,
   "metadata": {},
   "outputs": [],
   "source": [
    "import pandas as pd\n",
    "import numpy as np\n",
    "import datetime\n",
    "import seaborn as sns\n",
    "import matplotlib.pyplot as plt\n",
    "import matplotlib\n",
    "\n",
    "from sklearn.preprocessing import MinMaxScaler\n",
    "from scipy import sparse\n",
    "from sklearn.feature_extraction.text import CountVectorizer, TfidfVectorizer\n",
    "from sklearn.metrics.pairwise import pairwise_distances, cosine_distances, cosine_similarity\n",
    "from scipy import spatial\n",
    "from sklearn.datasets import make_blobs\n",
    "from sklearn.cluster import KMeans\n",
    "from sklearn.preprocessing import StandardScaler\n",
    "from sklearn.metrics import silhouette_score\n",
    "from sklearn.decomposition import PCA"
   ]
  },
  {
   "cell_type": "code",
   "execution_count": 377,
   "metadata": {},
   "outputs": [],
   "source": [
    "music_data = pd.read_csv('../data/music_data_w_genre.csv')"
   ]
  },
  {
   "cell_type": "code",
   "execution_count": 378,
   "metadata": {},
   "outputs": [
    {
     "data": {
      "text/html": [
       "<div>\n",
       "<style scoped>\n",
       "    .dataframe tbody tr th:only-of-type {\n",
       "        vertical-align: middle;\n",
       "    }\n",
       "\n",
       "    .dataframe tbody tr th {\n",
       "        vertical-align: top;\n",
       "    }\n",
       "\n",
       "    .dataframe thead th {\n",
       "        text-align: right;\n",
       "    }\n",
       "</style>\n",
       "<table border=\"1\" class=\"dataframe\">\n",
       "  <thead>\n",
       "    <tr style=\"text-align: right;\">\n",
       "      <th></th>\n",
       "      <th>release_date</th>\n",
       "      <th>artist</th>\n",
       "      <th>name</th>\n",
       "      <th>album</th>\n",
       "      <th>popularity</th>\n",
       "      <th>danceability</th>\n",
       "      <th>energy</th>\n",
       "      <th>key</th>\n",
       "      <th>loudness</th>\n",
       "      <th>mode</th>\n",
       "      <th>speechiness</th>\n",
       "      <th>acousticness</th>\n",
       "      <th>instrumentalness</th>\n",
       "      <th>liveness</th>\n",
       "      <th>valence</th>\n",
       "      <th>tempo</th>\n",
       "      <th>duration_ms_y</th>\n",
       "      <th>id</th>\n",
       "      <th>Values</th>\n",
       "    </tr>\n",
       "  </thead>\n",
       "  <tbody>\n",
       "    <tr>\n",
       "      <th>0</th>\n",
       "      <td>2018-02-23</td>\n",
       "      <td>L D R U</td>\n",
       "      <td>The Calling - ORIENTAL CRAVINGS Remix</td>\n",
       "      <td>Sizzlar (Remixes)</td>\n",
       "      <td>8</td>\n",
       "      <td>0.531</td>\n",
       "      <td>0.816</td>\n",
       "      <td>10</td>\n",
       "      <td>-4.240</td>\n",
       "      <td>0</td>\n",
       "      <td>0.1020</td>\n",
       "      <td>0.421</td>\n",
       "      <td>0.000321</td>\n",
       "      <td>0.475</td>\n",
       "      <td>0.310</td>\n",
       "      <td>153.974</td>\n",
       "      <td>180779</td>\n",
       "      <td>3egj44N2tiuW5F2MrqmBjW</td>\n",
       "      <td>['australian_dance']</td>\n",
       "    </tr>\n",
       "    <tr>\n",
       "      <th>1</th>\n",
       "      <td>2018-02-23</td>\n",
       "      <td>L D R U</td>\n",
       "      <td>The Calling - ORIENTAL CRAVINGS Remix</td>\n",
       "      <td>Sizzlar (Remixes)</td>\n",
       "      <td>8</td>\n",
       "      <td>0.531</td>\n",
       "      <td>0.816</td>\n",
       "      <td>10</td>\n",
       "      <td>-4.240</td>\n",
       "      <td>0</td>\n",
       "      <td>0.1020</td>\n",
       "      <td>0.421</td>\n",
       "      <td>0.000321</td>\n",
       "      <td>0.475</td>\n",
       "      <td>0.310</td>\n",
       "      <td>153.974</td>\n",
       "      <td>180779</td>\n",
       "      <td>3egj44N2tiuW5F2MrqmBjW</td>\n",
       "      <td>['australian_dance']</td>\n",
       "    </tr>\n",
       "    <tr>\n",
       "      <th>2</th>\n",
       "      <td>2018-02-23</td>\n",
       "      <td>L D R U</td>\n",
       "      <td>The Calling - ORIENTAL CRAVINGS Remix</td>\n",
       "      <td>Sizzlar (Remixes)</td>\n",
       "      <td>8</td>\n",
       "      <td>0.531</td>\n",
       "      <td>0.816</td>\n",
       "      <td>10</td>\n",
       "      <td>-4.240</td>\n",
       "      <td>0</td>\n",
       "      <td>0.1020</td>\n",
       "      <td>0.421</td>\n",
       "      <td>0.000321</td>\n",
       "      <td>0.475</td>\n",
       "      <td>0.310</td>\n",
       "      <td>153.974</td>\n",
       "      <td>180779</td>\n",
       "      <td>3egj44N2tiuW5F2MrqmBjW</td>\n",
       "      <td>['australian_dance']</td>\n",
       "    </tr>\n",
       "    <tr>\n",
       "      <th>3</th>\n",
       "      <td>2018-02-23</td>\n",
       "      <td>L D R U</td>\n",
       "      <td>The Calling - ORIENTAL CRAVINGS Remix</td>\n",
       "      <td>Sizzlar (Remixes)</td>\n",
       "      <td>8</td>\n",
       "      <td>0.531</td>\n",
       "      <td>0.816</td>\n",
       "      <td>10</td>\n",
       "      <td>-4.240</td>\n",
       "      <td>0</td>\n",
       "      <td>0.1020</td>\n",
       "      <td>0.421</td>\n",
       "      <td>0.000321</td>\n",
       "      <td>0.475</td>\n",
       "      <td>0.310</td>\n",
       "      <td>153.974</td>\n",
       "      <td>180779</td>\n",
       "      <td>3egj44N2tiuW5F2MrqmBjW</td>\n",
       "      <td>['australian_dance']</td>\n",
       "    </tr>\n",
       "    <tr>\n",
       "      <th>4</th>\n",
       "      <td>2018-02-23</td>\n",
       "      <td>L D R U</td>\n",
       "      <td>Keeping Score (feat. Paige IV) - Paces Remix</td>\n",
       "      <td>Sizzlar (Remixes)</td>\n",
       "      <td>16</td>\n",
       "      <td>0.687</td>\n",
       "      <td>0.758</td>\n",
       "      <td>5</td>\n",
       "      <td>-5.285</td>\n",
       "      <td>0</td>\n",
       "      <td>0.0564</td>\n",
       "      <td>0.109</td>\n",
       "      <td>0.000070</td>\n",
       "      <td>0.185</td>\n",
       "      <td>0.441</td>\n",
       "      <td>91.911</td>\n",
       "      <td>205000</td>\n",
       "      <td>1WAWbKpQe3XMp4b96bjazD</td>\n",
       "      <td>['australian_dance']</td>\n",
       "    </tr>\n",
       "  </tbody>\n",
       "</table>\n",
       "</div>"
      ],
      "text/plain": [
       "  release_date   artist                                          name  \\\n",
       "0   2018-02-23  L D R U         The Calling - ORIENTAL CRAVINGS Remix   \n",
       "1   2018-02-23  L D R U         The Calling - ORIENTAL CRAVINGS Remix   \n",
       "2   2018-02-23  L D R U         The Calling - ORIENTAL CRAVINGS Remix   \n",
       "3   2018-02-23  L D R U         The Calling - ORIENTAL CRAVINGS Remix   \n",
       "4   2018-02-23  L D R U  Keeping Score (feat. Paige IV) - Paces Remix   \n",
       "\n",
       "               album  popularity  danceability  energy  key  loudness  mode  \\\n",
       "0  Sizzlar (Remixes)           8         0.531   0.816   10    -4.240     0   \n",
       "1  Sizzlar (Remixes)           8         0.531   0.816   10    -4.240     0   \n",
       "2  Sizzlar (Remixes)           8         0.531   0.816   10    -4.240     0   \n",
       "3  Sizzlar (Remixes)           8         0.531   0.816   10    -4.240     0   \n",
       "4  Sizzlar (Remixes)          16         0.687   0.758    5    -5.285     0   \n",
       "\n",
       "   speechiness  acousticness  instrumentalness  liveness  valence    tempo  \\\n",
       "0       0.1020         0.421          0.000321     0.475    0.310  153.974   \n",
       "1       0.1020         0.421          0.000321     0.475    0.310  153.974   \n",
       "2       0.1020         0.421          0.000321     0.475    0.310  153.974   \n",
       "3       0.1020         0.421          0.000321     0.475    0.310  153.974   \n",
       "4       0.0564         0.109          0.000070     0.185    0.441   91.911   \n",
       "\n",
       "   duration_ms_y                      id                Values  \n",
       "0         180779  3egj44N2tiuW5F2MrqmBjW  ['australian_dance']  \n",
       "1         180779  3egj44N2tiuW5F2MrqmBjW  ['australian_dance']  \n",
       "2         180779  3egj44N2tiuW5F2MrqmBjW  ['australian_dance']  \n",
       "3         180779  3egj44N2tiuW5F2MrqmBjW  ['australian_dance']  \n",
       "4         205000  1WAWbKpQe3XMp4b96bjazD  ['australian_dance']  "
      ]
     },
     "execution_count": 378,
     "metadata": {},
     "output_type": "execute_result"
    }
   ],
   "source": [
    "music_data.head()"
   ]
  },
  {
   "cell_type": "code",
   "execution_count": 379,
   "metadata": {},
   "outputs": [],
   "source": [
    "music_data['release_date']= pd.to_datetime(music_data['release_date'])\n",
    "music_data['Seconds']=music_data['release_date'].map(pd.Timestamp.timestamp)\n",
    "\n",
    "day = 60*60*24\n",
    "year = 365.2425*day\n",
    "music_data['year'] = np.cos(music_data['Seconds'] * (2*np.pi/year))"
   ]
  },
  {
   "cell_type": "code",
   "execution_count": 380,
   "metadata": {},
   "outputs": [],
   "source": [
    "music_data.drop(columns=['duration_ms_y', 'Seconds', 'mode'], inplace = True)"
   ]
  },
  {
   "cell_type": "code",
   "execution_count": 381,
   "metadata": {},
   "outputs": [],
   "source": [
    "float_cols = music_data.dtypes[music_data.dtypes == 'float64'].index.values"
   ]
  },
  {
   "cell_type": "code",
   "execution_count": 382,
   "metadata": {},
   "outputs": [],
   "source": [
    "int_cols = music_data.dtypes[music_data.dtypes == 'int64'].index.values"
   ]
  },
  {
   "cell_type": "code",
   "execution_count": 383,
   "metadata": {},
   "outputs": [
    {
     "data": {
      "text/plain": [
       "0    ['australian_dance']\n",
       "1    ['australian_dance']\n",
       "2    ['australian_dance']\n",
       "3    ['australian_dance']\n",
       "4    ['australian_dance']\n",
       "Name: Values, dtype: object"
      ]
     },
     "execution_count": 383,
     "metadata": {},
     "output_type": "execute_result"
    }
   ],
   "source": [
    "music_data['Values'].head()"
   ]
  },
  {
   "cell_type": "code",
   "execution_count": 384,
   "metadata": {},
   "outputs": [],
   "source": [
    "def create_feature_set(df, float_cols):\n",
    "    tfidf = TfidfVectorizer()\n",
    "    tfidf_matrix =  tfidf.fit_transform(df['Values'])\n",
    "    genre_df = pd.DataFrame(tfidf_matrix.toarray())\n",
    "    genre_df.columns = [i for i in tfidf.get_feature_names()]\n",
    "    genre_df.reset_index(drop = True, inplace=True)\n",
    "\n",
    "    floats = df[float_cols].reset_index(drop = True)\n",
    "    ints =  df[int_cols].reset_index(drop = True)\n",
    "    pop = df[['popularity']].reset_index(drop = True)\n",
    "    scaler = MinMaxScaler()\n",
    "    floats_scaled = pd.DataFrame(scaler.fit_transform(floats), columns = floats.columns)\n",
    "    pop_scaled = pd.DataFrame(scaler.fit_transform(pop), columns = pop.columns) \n",
    "    genre_scaled = pd.DataFrame(scaler.fit_transform(genre_df[genre_df.columns]), columns = genre_df.columns)\n",
    "    ints_scaled = pd.DataFrame(scaler.fit_transform(ints), columns = ints.columns)\n",
    "\n",
    "    final = pd.concat([floats_scaled, pop_scaled, genre_df, ints_scaled], axis = 1)\n",
    "    \n",
    "    final['id']=df['id'].values\n",
    "    \n",
    "    return final"
   ]
  },
  {
   "cell_type": "code",
   "execution_count": 385,
   "metadata": {},
   "outputs": [],
   "source": [
    "features = create_feature_set(music_data, float_cols=float_cols)"
   ]
  },
  {
   "cell_type": "code",
   "execution_count": 386,
   "metadata": {},
   "outputs": [
    {
     "data": {
      "text/html": [
       "<div>\n",
       "<style scoped>\n",
       "    .dataframe tbody tr th:only-of-type {\n",
       "        vertical-align: middle;\n",
       "    }\n",
       "\n",
       "    .dataframe tbody tr th {\n",
       "        vertical-align: top;\n",
       "    }\n",
       "\n",
       "    .dataframe thead th {\n",
       "        text-align: right;\n",
       "    }\n",
       "</style>\n",
       "<table border=\"1\" class=\"dataframe\">\n",
       "  <thead>\n",
       "    <tr style=\"text-align: right;\">\n",
       "      <th></th>\n",
       "      <th>danceability</th>\n",
       "      <th>energy</th>\n",
       "      <th>loudness</th>\n",
       "      <th>speechiness</th>\n",
       "      <th>acousticness</th>\n",
       "      <th>instrumentalness</th>\n",
       "      <th>liveness</th>\n",
       "      <th>valence</th>\n",
       "      <th>tempo</th>\n",
       "      <th>year</th>\n",
       "      <th>...</th>\n",
       "      <th>woogie</th>\n",
       "      <th>world_devotional</th>\n",
       "      <th>world_fusion</th>\n",
       "      <th>world_worship</th>\n",
       "      <th>worship</th>\n",
       "      <th>wyoming_roots</th>\n",
       "      <th>yacht_rock</th>\n",
       "      <th>popularity</th>\n",
       "      <th>key</th>\n",
       "      <th>id</th>\n",
       "    </tr>\n",
       "  </thead>\n",
       "  <tbody>\n",
       "    <tr>\n",
       "      <th>0</th>\n",
       "      <td>0.536906</td>\n",
       "      <td>0.816</td>\n",
       "      <td>0.888110</td>\n",
       "      <td>0.105590</td>\n",
       "      <td>0.422691</td>\n",
       "      <td>0.000321</td>\n",
       "      <td>0.475</td>\n",
       "      <td>0.310</td>\n",
       "      <td>0.620713</td>\n",
       "      <td>0.803729</td>\n",
       "      <td>...</td>\n",
       "      <td>0.0</td>\n",
       "      <td>0.0</td>\n",
       "      <td>0.0</td>\n",
       "      <td>0.0</td>\n",
       "      <td>0.0</td>\n",
       "      <td>0.0</td>\n",
       "      <td>0.0</td>\n",
       "      <td>0.084211</td>\n",
       "      <td>0.909091</td>\n",
       "      <td>3egj44N2tiuW5F2MrqmBjW</td>\n",
       "    </tr>\n",
       "    <tr>\n",
       "      <th>1</th>\n",
       "      <td>0.536906</td>\n",
       "      <td>0.816</td>\n",
       "      <td>0.888110</td>\n",
       "      <td>0.105590</td>\n",
       "      <td>0.422691</td>\n",
       "      <td>0.000321</td>\n",
       "      <td>0.475</td>\n",
       "      <td>0.310</td>\n",
       "      <td>0.620713</td>\n",
       "      <td>0.803729</td>\n",
       "      <td>...</td>\n",
       "      <td>0.0</td>\n",
       "      <td>0.0</td>\n",
       "      <td>0.0</td>\n",
       "      <td>0.0</td>\n",
       "      <td>0.0</td>\n",
       "      <td>0.0</td>\n",
       "      <td>0.0</td>\n",
       "      <td>0.084211</td>\n",
       "      <td>0.909091</td>\n",
       "      <td>3egj44N2tiuW5F2MrqmBjW</td>\n",
       "    </tr>\n",
       "    <tr>\n",
       "      <th>2</th>\n",
       "      <td>0.536906</td>\n",
       "      <td>0.816</td>\n",
       "      <td>0.888110</td>\n",
       "      <td>0.105590</td>\n",
       "      <td>0.422691</td>\n",
       "      <td>0.000321</td>\n",
       "      <td>0.475</td>\n",
       "      <td>0.310</td>\n",
       "      <td>0.620713</td>\n",
       "      <td>0.803729</td>\n",
       "      <td>...</td>\n",
       "      <td>0.0</td>\n",
       "      <td>0.0</td>\n",
       "      <td>0.0</td>\n",
       "      <td>0.0</td>\n",
       "      <td>0.0</td>\n",
       "      <td>0.0</td>\n",
       "      <td>0.0</td>\n",
       "      <td>0.084211</td>\n",
       "      <td>0.909091</td>\n",
       "      <td>3egj44N2tiuW5F2MrqmBjW</td>\n",
       "    </tr>\n",
       "    <tr>\n",
       "      <th>3</th>\n",
       "      <td>0.536906</td>\n",
       "      <td>0.816</td>\n",
       "      <td>0.888110</td>\n",
       "      <td>0.105590</td>\n",
       "      <td>0.422691</td>\n",
       "      <td>0.000321</td>\n",
       "      <td>0.475</td>\n",
       "      <td>0.310</td>\n",
       "      <td>0.620713</td>\n",
       "      <td>0.803729</td>\n",
       "      <td>...</td>\n",
       "      <td>0.0</td>\n",
       "      <td>0.0</td>\n",
       "      <td>0.0</td>\n",
       "      <td>0.0</td>\n",
       "      <td>0.0</td>\n",
       "      <td>0.0</td>\n",
       "      <td>0.0</td>\n",
       "      <td>0.084211</td>\n",
       "      <td>0.909091</td>\n",
       "      <td>3egj44N2tiuW5F2MrqmBjW</td>\n",
       "    </tr>\n",
       "    <tr>\n",
       "      <th>4</th>\n",
       "      <td>0.694641</td>\n",
       "      <td>0.758</td>\n",
       "      <td>0.871466</td>\n",
       "      <td>0.058385</td>\n",
       "      <td>0.109438</td>\n",
       "      <td>0.000070</td>\n",
       "      <td>0.185</td>\n",
       "      <td>0.441</td>\n",
       "      <td>0.370519</td>\n",
       "      <td>0.803729</td>\n",
       "      <td>...</td>\n",
       "      <td>0.0</td>\n",
       "      <td>0.0</td>\n",
       "      <td>0.0</td>\n",
       "      <td>0.0</td>\n",
       "      <td>0.0</td>\n",
       "      <td>0.0</td>\n",
       "      <td>0.0</td>\n",
       "      <td>0.168421</td>\n",
       "      <td>0.454545</td>\n",
       "      <td>1WAWbKpQe3XMp4b96bjazD</td>\n",
       "    </tr>\n",
       "  </tbody>\n",
       "</table>\n",
       "<p>5 rows × 1259 columns</p>\n",
       "</div>"
      ],
      "text/plain": [
       "   danceability  energy  loudness  speechiness  acousticness  \\\n",
       "0      0.536906   0.816  0.888110     0.105590      0.422691   \n",
       "1      0.536906   0.816  0.888110     0.105590      0.422691   \n",
       "2      0.536906   0.816  0.888110     0.105590      0.422691   \n",
       "3      0.536906   0.816  0.888110     0.105590      0.422691   \n",
       "4      0.694641   0.758  0.871466     0.058385      0.109438   \n",
       "\n",
       "   instrumentalness  liveness  valence     tempo      year  ...  woogie  \\\n",
       "0          0.000321     0.475    0.310  0.620713  0.803729  ...     0.0   \n",
       "1          0.000321     0.475    0.310  0.620713  0.803729  ...     0.0   \n",
       "2          0.000321     0.475    0.310  0.620713  0.803729  ...     0.0   \n",
       "3          0.000321     0.475    0.310  0.620713  0.803729  ...     0.0   \n",
       "4          0.000070     0.185    0.441  0.370519  0.803729  ...     0.0   \n",
       "\n",
       "   world_devotional  world_fusion  world_worship  worship  wyoming_roots  \\\n",
       "0               0.0           0.0            0.0      0.0            0.0   \n",
       "1               0.0           0.0            0.0      0.0            0.0   \n",
       "2               0.0           0.0            0.0      0.0            0.0   \n",
       "3               0.0           0.0            0.0      0.0            0.0   \n",
       "4               0.0           0.0            0.0      0.0            0.0   \n",
       "\n",
       "   yacht_rock  popularity       key                      id  \n",
       "0         0.0    0.084211  0.909091  3egj44N2tiuW5F2MrqmBjW  \n",
       "1         0.0    0.084211  0.909091  3egj44N2tiuW5F2MrqmBjW  \n",
       "2         0.0    0.084211  0.909091  3egj44N2tiuW5F2MrqmBjW  \n",
       "3         0.0    0.084211  0.909091  3egj44N2tiuW5F2MrqmBjW  \n",
       "4         0.0    0.168421  0.454545  1WAWbKpQe3XMp4b96bjazD  \n",
       "\n",
       "[5 rows x 1259 columns]"
      ]
     },
     "execution_count": 386,
     "metadata": {},
     "output_type": "execute_result"
    }
   ],
   "source": [
    "features.head()"
   ]
  },
  {
   "cell_type": "code",
   "execution_count": 387,
   "metadata": {},
   "outputs": [],
   "source": [
    "features.set_index('id', inplace=True)"
   ]
  },
  {
   "cell_type": "code",
   "execution_count": 388,
   "metadata": {},
   "outputs": [],
   "source": [
    "def similarity(id1, id2):\n",
    "    a = features.loc[[id1]]\n",
    "    b = features.loc[[id2]]\n",
    "\n",
    "    distance = spatial.distance.cosine(a[a.columns], b[b.columns])\n",
    "    return distance\n"
   ]
  },
  {
   "cell_type": "code",
   "execution_count": null,
   "metadata": {},
   "outputs": [],
   "source": [
    "song = input('enter song name: ')"
   ]
  },
  {
   "cell_type": "code",
   "execution_count": null,
   "metadata": {},
   "outputs": [],
   "source": [
    "song_df = music_data[music_data['name'].str.contains(song, case=False)]"
   ]
  },
  {
   "cell_type": "code",
   "execution_count": null,
   "metadata": {},
   "outputs": [
    {
     "name": "stdout",
     "output_type": "stream",
     "text": [
      "                           id  \\\n",
      "79851  7JLqofLzcpdjFHc6oRSBGf   \n",
      "79908  5dvfYJR8yXaO9SHtqJWeL5   \n",
      "79922  1MfedNodDKkvTVkNkwIBSo   \n",
      "80009  08mG3Y1vljYA6bvDt4Wqkj   \n",
      "\n",
      "                                                    name artist  \n",
      "79851  Back In Black - Live at River Plate Stadium, B...  AC/DC  \n",
      "79908                        Back In Black - Live - 1991  AC/DC  \n",
      "79922                        Back In Black - Live - 1991  AC/DC  \n",
      "80009                                      Back In Black  AC/DC  \n"
     ]
    }
   ],
   "source": [
    "if len(song_df) > 1:\n",
    "    print(song_df[['id', 'name', 'artist']].head())\n",
    "    song_id = input('copy and paste your id here: ')\n",
    "else:\n",
    "    song_id = song_df['id']"
   ]
  },
  {
   "cell_type": "code",
   "execution_count": null,
   "metadata": {},
   "outputs": [],
   "source": [
    "def songs(i):\n",
    "    distances = {}\n",
    "    for j in list(features.index):\n",
    "        dist = similarity(i, j)\n",
    "        distances.update({j:dist})\n",
    "    return distances   "
   ]
  },
  {
   "cell_type": "code",
   "execution_count": null,
   "metadata": {},
   "outputs": [],
   "source": [
    "my_song = songs(song_id)"
   ]
  },
  {
   "cell_type": "code",
   "execution_count": null,
   "metadata": {},
   "outputs": [],
   "source": [
    "my_songdf = pd.DataFrame(my_song.items())\n",
    "my_songdf = my_songdf.sort_values(by=1)"
   ]
  },
  {
   "cell_type": "code",
   "execution_count": null,
   "metadata": {},
   "outputs": [
    {
     "data": {
      "text/html": [
       "<div>\n",
       "<style scoped>\n",
       "    .dataframe tbody tr th:only-of-type {\n",
       "        vertical-align: middle;\n",
       "    }\n",
       "\n",
       "    .dataframe tbody tr th {\n",
       "        vertical-align: top;\n",
       "    }\n",
       "\n",
       "    .dataframe thead th {\n",
       "        text-align: right;\n",
       "    }\n",
       "</style>\n",
       "<table border=\"1\" class=\"dataframe\">\n",
       "  <thead>\n",
       "    <tr style=\"text-align: right;\">\n",
       "      <th></th>\n",
       "      <th>0</th>\n",
       "      <th>1</th>\n",
       "    </tr>\n",
       "  </thead>\n",
       "  <tbody>\n",
       "    <tr>\n",
       "      <th>80009</th>\n",
       "      <td>08mG3Y1vljYA6bvDt4Wqkj</td>\n",
       "      <td>0.000000</td>\n",
       "    </tr>\n",
       "    <tr>\n",
       "      <th>80010</th>\n",
       "      <td>2SiXAy7TuUkycRVbbWDEpo</td>\n",
       "      <td>0.017012</td>\n",
       "    </tr>\n",
       "    <tr>\n",
       "      <th>79966</th>\n",
       "      <td>6yl8Es1tCYD9WdSkeVLFw4</td>\n",
       "      <td>0.019485</td>\n",
       "    </tr>\n",
       "    <tr>\n",
       "      <th>80013</th>\n",
       "      <td>6J17MkMmuzBiIOjRH6MOBZ</td>\n",
       "      <td>0.023494</td>\n",
       "    </tr>\n",
       "    <tr>\n",
       "      <th>80014</th>\n",
       "      <td>2zYzyRzz6pRmhPzyfMEC8s</td>\n",
       "      <td>0.028059</td>\n",
       "    </tr>\n",
       "    <tr>\n",
       "      <th>80017</th>\n",
       "      <td>2j0zExWFB0PowLOeoZosjK</td>\n",
       "      <td>0.028662</td>\n",
       "    </tr>\n",
       "    <tr>\n",
       "      <th>80016</th>\n",
       "      <td>5xquYn2sr3uEcyuKU9BmCJ</td>\n",
       "      <td>0.030809</td>\n",
       "    </tr>\n",
       "  </tbody>\n",
       "</table>\n",
       "</div>"
      ],
      "text/plain": [
       "                            0         1\n",
       "80009  08mG3Y1vljYA6bvDt4Wqkj  0.000000\n",
       "80010  2SiXAy7TuUkycRVbbWDEpo  0.017012\n",
       "79966  6yl8Es1tCYD9WdSkeVLFw4  0.019485\n",
       "80013  6J17MkMmuzBiIOjRH6MOBZ  0.023494\n",
       "80014  2zYzyRzz6pRmhPzyfMEC8s  0.028059\n",
       "80017  2j0zExWFB0PowLOeoZosjK  0.028662\n",
       "80016  5xquYn2sr3uEcyuKU9BmCJ  0.030809"
      ]
     },
     "execution_count": 342,
     "metadata": {},
     "output_type": "execute_result"
    }
   ],
   "source": [
    "my_songdf.head(7)"
   ]
  },
  {
   "cell_type": "code",
   "execution_count": null,
   "metadata": {},
   "outputs": [],
   "source": [
    "#time to cluster\n",
    "clust_1 = music_data[list(float_cols) + list(int_cols)+['id']]\n",
    "clust_1.set_index('id', inplace=True)"
   ]
  },
  {
   "cell_type": "code",
   "execution_count": null,
   "metadata": {},
   "outputs": [],
   "source": [
    "X = clust_1.copy()\n",
    "\n",
    "sc = StandardScaler()\n",
    "\n",
    "clust_1_sc = sc.fit_transform(X)"
   ]
  },
  {
   "cell_type": "code",
   "execution_count": null,
   "metadata": {},
   "outputs": [
    {
     "data": {
      "text/plain": [
       "KMeans(n_clusters=5, random_state=42)"
      ]
     },
     "execution_count": 345,
     "metadata": {},
     "output_type": "execute_result"
    }
   ],
   "source": [
    "k = 5\n",
    "\n",
    "km = KMeans(n_clusters=k, random_state = 42)\n",
    "\n",
    "km.fit(clust_1_sc)"
   ]
  },
  {
   "cell_type": "code",
   "execution_count": null,
   "metadata": {},
   "outputs": [
    {
     "data": {
      "text/plain": [
       "array([[-0.80080919,  0.60391772,  0.19813184, -0.09618161, -0.27802488,\n",
       "        -0.26032573,  2.05929314, -0.13043615,  0.1777623 ,  0.04479694,\n",
       "        -0.20588914,  0.01067072],\n",
       "       [ 0.25704575,  0.22979121,  0.39058259, -0.24144013, -0.32081454,\n",
       "        -0.48885389, -0.35376695,  0.24635595,  0.06130543, -0.00299831,\n",
       "         0.22965118,  0.00961905],\n",
       "       [-0.75599089, -1.63048133, -1.4461511 , -0.42357459,  1.77632104,\n",
       "         0.33460047, -0.24868742, -0.46111492, -0.46830136,  0.2023128 ,\n",
       "        -0.07453075, -0.10176064],\n",
       "       [ 0.69145987, -0.27378222, -0.07319347,  2.22698242,  0.10681896,\n",
       "        -0.51698795, -0.08765655,  0.3372579 , -0.1713063 , -0.15635715,\n",
       "         0.14998652, -0.01614607],\n",
       "       [ 0.0447401 ,  0.5341189 ,  0.03515063, -0.35651611, -0.5241436 ,\n",
       "         1.78387673, -0.21707422, -0.47340606,  0.23057328, -0.1046204 ,\n",
       "        -0.59185536,  0.06862859]])"
      ]
     },
     "execution_count": 346,
     "metadata": {},
     "output_type": "execute_result"
    }
   ],
   "source": [
    "km.cluster_centers_"
   ]
  },
  {
   "cell_type": "code",
   "execution_count": null,
   "metadata": {},
   "outputs": [
    {
     "data": {
      "text/plain": [
       "array([0, 1, 1, ..., 1, 1, 1], dtype=int32)"
      ]
     },
     "execution_count": 347,
     "metadata": {},
     "output_type": "execute_result"
    }
   ],
   "source": [
    "km.labels_"
   ]
  },
  {
   "cell_type": "code",
   "execution_count": null,
   "metadata": {},
   "outputs": [],
   "source": [
    "pred = km.predict(clust_1_sc)"
   ]
  },
  {
   "cell_type": "code",
   "execution_count": null,
   "metadata": {},
   "outputs": [
    {
     "name": "stderr",
     "output_type": "stream",
     "text": [
      "<ipython-input-349-614e417d8fa7>:1: SettingWithCopyWarning: \n",
      "A value is trying to be set on a copy of a slice from a DataFrame.\n",
      "Try using .loc[row_indexer,col_indexer] = value instead\n",
      "\n",
      "See the caveats in the documentation: https://pandas.pydata.org/pandas-docs/stable/user_guide/indexing.html#returning-a-view-versus-a-copy\n",
      "  clust_1['cluster'] = km.labels_\n"
     ]
    }
   ],
   "source": [
    "clust_1['cluster'] = km.labels_"
   ]
  },
  {
   "cell_type": "code",
   "execution_count": null,
   "metadata": {},
   "outputs": [
    {
     "name": "stderr",
     "output_type": "stream",
     "text": [
      "<ipython-input-350-2e8836fa2abd>:1: SettingWithCopyWarning: \n",
      "A value is trying to be set on a copy of a slice from a DataFrame.\n",
      "Try using .loc[row_indexer,col_indexer] = value instead\n",
      "\n",
      "See the caveats in the documentation: https://pandas.pydata.org/pandas-docs/stable/user_guide/indexing.html#returning-a-view-versus-a-copy\n",
      "  clust_1['predictions'] = pred\n"
     ]
    }
   ],
   "source": [
    "clust_1['predictions'] = pred"
   ]
  },
  {
   "cell_type": "code",
   "execution_count": null,
   "metadata": {},
   "outputs": [
    {
     "data": {
      "text/html": [
       "<div>\n",
       "<style scoped>\n",
       "    .dataframe tbody tr th:only-of-type {\n",
       "        vertical-align: middle;\n",
       "    }\n",
       "\n",
       "    .dataframe tbody tr th {\n",
       "        vertical-align: top;\n",
       "    }\n",
       "\n",
       "    .dataframe thead th {\n",
       "        text-align: right;\n",
       "    }\n",
       "</style>\n",
       "<table border=\"1\" class=\"dataframe\">\n",
       "  <thead>\n",
       "    <tr style=\"text-align: right;\">\n",
       "      <th></th>\n",
       "      <th>danceability</th>\n",
       "      <th>energy</th>\n",
       "      <th>loudness</th>\n",
       "      <th>speechiness</th>\n",
       "      <th>acousticness</th>\n",
       "      <th>instrumentalness</th>\n",
       "      <th>liveness</th>\n",
       "      <th>valence</th>\n",
       "      <th>tempo</th>\n",
       "      <th>year</th>\n",
       "      <th>popularity</th>\n",
       "      <th>key</th>\n",
       "      <th>cluster</th>\n",
       "      <th>predictions</th>\n",
       "    </tr>\n",
       "    <tr>\n",
       "      <th>id</th>\n",
       "      <th></th>\n",
       "      <th></th>\n",
       "      <th></th>\n",
       "      <th></th>\n",
       "      <th></th>\n",
       "      <th></th>\n",
       "      <th></th>\n",
       "      <th></th>\n",
       "      <th></th>\n",
       "      <th></th>\n",
       "      <th></th>\n",
       "      <th></th>\n",
       "      <th></th>\n",
       "      <th></th>\n",
       "    </tr>\n",
       "  </thead>\n",
       "  <tbody>\n",
       "    <tr>\n",
       "      <th>3egj44N2tiuW5F2MrqmBjW</th>\n",
       "      <td>0.531</td>\n",
       "      <td>0.816</td>\n",
       "      <td>-4.240</td>\n",
       "      <td>0.1020</td>\n",
       "      <td>0.42100</td>\n",
       "      <td>0.000321</td>\n",
       "      <td>0.475</td>\n",
       "      <td>0.310</td>\n",
       "      <td>153.974</td>\n",
       "      <td>0.607458</td>\n",
       "      <td>8</td>\n",
       "      <td>10</td>\n",
       "      <td>0</td>\n",
       "      <td>0</td>\n",
       "    </tr>\n",
       "    <tr>\n",
       "      <th>1WAWbKpQe3XMp4b96bjazD</th>\n",
       "      <td>0.687</td>\n",
       "      <td>0.758</td>\n",
       "      <td>-5.285</td>\n",
       "      <td>0.0564</td>\n",
       "      <td>0.10900</td>\n",
       "      <td>0.000070</td>\n",
       "      <td>0.185</td>\n",
       "      <td>0.441</td>\n",
       "      <td>91.911</td>\n",
       "      <td>0.607458</td>\n",
       "      <td>16</td>\n",
       "      <td>5</td>\n",
       "      <td>1</td>\n",
       "      <td>1</td>\n",
       "    </tr>\n",
       "    <tr>\n",
       "      <th>1HFIgvDlSCjC95Ch6h6gF7</th>\n",
       "      <td>0.746</td>\n",
       "      <td>0.944</td>\n",
       "      <td>-5.525</td>\n",
       "      <td>0.2460</td>\n",
       "      <td>0.00208</td>\n",
       "      <td>0.341000</td>\n",
       "      <td>0.169</td>\n",
       "      <td>0.533</td>\n",
       "      <td>140.108</td>\n",
       "      <td>0.607458</td>\n",
       "      <td>11</td>\n",
       "      <td>8</td>\n",
       "      <td>1</td>\n",
       "      <td>1</td>\n",
       "    </tr>\n",
       "    <tr>\n",
       "      <th>0mEYJIIBcUt2GH4ftYKJ5Q</th>\n",
       "      <td>0.433</td>\n",
       "      <td>0.668</td>\n",
       "      <td>-7.694</td>\n",
       "      <td>0.0443</td>\n",
       "      <td>0.00947</td>\n",
       "      <td>0.000000</td>\n",
       "      <td>0.113</td>\n",
       "      <td>0.324</td>\n",
       "      <td>100.008</td>\n",
       "      <td>0.607458</td>\n",
       "      <td>7</td>\n",
       "      <td>6</td>\n",
       "      <td>1</td>\n",
       "      <td>1</td>\n",
       "    </tr>\n",
       "    <tr>\n",
       "      <th>0vQ5VW753vuqUdi4mipjVl</th>\n",
       "      <td>0.635</td>\n",
       "      <td>0.844</td>\n",
       "      <td>-6.086</td>\n",
       "      <td>0.0970</td>\n",
       "      <td>0.13700</td>\n",
       "      <td>0.331000</td>\n",
       "      <td>0.379</td>\n",
       "      <td>0.220</td>\n",
       "      <td>75.031</td>\n",
       "      <td>0.607458</td>\n",
       "      <td>7</td>\n",
       "      <td>4</td>\n",
       "      <td>4</td>\n",
       "      <td>4</td>\n",
       "    </tr>\n",
       "  </tbody>\n",
       "</table>\n",
       "</div>"
      ],
      "text/plain": [
       "                        danceability  energy  loudness  speechiness  \\\n",
       "id                                                                    \n",
       "3egj44N2tiuW5F2MrqmBjW         0.531   0.816    -4.240       0.1020   \n",
       "1WAWbKpQe3XMp4b96bjazD         0.687   0.758    -5.285       0.0564   \n",
       "1HFIgvDlSCjC95Ch6h6gF7         0.746   0.944    -5.525       0.2460   \n",
       "0mEYJIIBcUt2GH4ftYKJ5Q         0.433   0.668    -7.694       0.0443   \n",
       "0vQ5VW753vuqUdi4mipjVl         0.635   0.844    -6.086       0.0970   \n",
       "\n",
       "                        acousticness  instrumentalness  liveness  valence  \\\n",
       "id                                                                          \n",
       "3egj44N2tiuW5F2MrqmBjW       0.42100          0.000321     0.475    0.310   \n",
       "1WAWbKpQe3XMp4b96bjazD       0.10900          0.000070     0.185    0.441   \n",
       "1HFIgvDlSCjC95Ch6h6gF7       0.00208          0.341000     0.169    0.533   \n",
       "0mEYJIIBcUt2GH4ftYKJ5Q       0.00947          0.000000     0.113    0.324   \n",
       "0vQ5VW753vuqUdi4mipjVl       0.13700          0.331000     0.379    0.220   \n",
       "\n",
       "                          tempo      year  popularity  key  cluster  \\\n",
       "id                                                                    \n",
       "3egj44N2tiuW5F2MrqmBjW  153.974  0.607458           8   10        0   \n",
       "1WAWbKpQe3XMp4b96bjazD   91.911  0.607458          16    5        1   \n",
       "1HFIgvDlSCjC95Ch6h6gF7  140.108  0.607458          11    8        1   \n",
       "0mEYJIIBcUt2GH4ftYKJ5Q  100.008  0.607458           7    6        1   \n",
       "0vQ5VW753vuqUdi4mipjVl   75.031  0.607458           7    4        4   \n",
       "\n",
       "                        predictions  \n",
       "id                                   \n",
       "3egj44N2tiuW5F2MrqmBjW            0  \n",
       "1WAWbKpQe3XMp4b96bjazD            1  \n",
       "1HFIgvDlSCjC95Ch6h6gF7            1  \n",
       "0mEYJIIBcUt2GH4ftYKJ5Q            1  \n",
       "0vQ5VW753vuqUdi4mipjVl            4  "
      ]
     },
     "execution_count": 351,
     "metadata": {},
     "output_type": "execute_result"
    }
   ],
   "source": [
    "clust_1.head()"
   ]
  },
  {
   "cell_type": "code",
   "execution_count": null,
   "metadata": {},
   "outputs": [
    {
     "data": {
      "text/plain": [
       "Index(['danceability', 'energy', 'loudness', 'speechiness', 'acousticness',\n",
       "       'instrumentalness', 'liveness', 'valence', 'tempo', 'year',\n",
       "       'popularity', 'key', 'id'],\n",
       "      dtype='object')"
      ]
     },
     "execution_count": 352,
     "metadata": {},
     "output_type": "execute_result"
    }
   ],
   "source": [
    "music_data[list(float_cols) + list(int_cols)+['id']].columns"
   ]
  },
  {
   "cell_type": "code",
   "execution_count": null,
   "metadata": {},
   "outputs": [
    {
     "data": {
      "text/html": [
       "<div>\n",
       "<style scoped>\n",
       "    .dataframe tbody tr th:only-of-type {\n",
       "        vertical-align: middle;\n",
       "    }\n",
       "\n",
       "    .dataframe tbody tr th {\n",
       "        vertical-align: top;\n",
       "    }\n",
       "\n",
       "    .dataframe thead tr th {\n",
       "        text-align: left;\n",
       "    }\n",
       "</style>\n",
       "<table border=\"1\" class=\"dataframe\">\n",
       "  <thead>\n",
       "    <tr>\n",
       "      <th></th>\n",
       "      <th>danceability</th>\n",
       "      <th>energy</th>\n",
       "      <th>loudness</th>\n",
       "      <th>speechiness</th>\n",
       "      <th>acousticness</th>\n",
       "      <th>instrumentalness</th>\n",
       "      <th>liveness</th>\n",
       "      <th>valence</th>\n",
       "      <th>tempo</th>\n",
       "      <th>year</th>\n",
       "      <th>popularity</th>\n",
       "      <th>key</th>\n",
       "    </tr>\n",
       "  </thead>\n",
       "  <tbody>\n",
       "    <tr>\n",
       "      <th>0</th>\n",
       "      <td>0.440523</td>\n",
       "      <td>0.812463</td>\n",
       "      <td>-6.978331</td>\n",
       "      <td>0.098930</td>\n",
       "      <td>0.131244</td>\n",
       "      <td>0.096075</td>\n",
       "      <td>0.719497</td>\n",
       "      <td>0.396399</td>\n",
       "      <td>127.831854</td>\n",
       "      <td>0.162100</td>\n",
       "      <td>19.436793</td>\n",
       "      <td>5.318659</td>\n",
       "    </tr>\n",
       "    <tr>\n",
       "      <th>1</th>\n",
       "      <td>0.621406</td>\n",
       "      <td>0.728500</td>\n",
       "      <td>-6.123216</td>\n",
       "      <td>0.079802</td>\n",
       "      <td>0.119069</td>\n",
       "      <td>0.023046</td>\n",
       "      <td>0.170746</td>\n",
       "      <td>0.488050</td>\n",
       "      <td>124.649233</td>\n",
       "      <td>0.127740</td>\n",
       "      <td>28.024564</td>\n",
       "      <td>5.314883</td>\n",
       "    </tr>\n",
       "    <tr>\n",
       "      <th>2</th>\n",
       "      <td>0.448186</td>\n",
       "      <td>0.311010</td>\n",
       "      <td>-14.284365</td>\n",
       "      <td>0.055819</td>\n",
       "      <td>0.715747</td>\n",
       "      <td>0.286191</td>\n",
       "      <td>0.194642</td>\n",
       "      <td>0.315965</td>\n",
       "      <td>110.175740</td>\n",
       "      <td>0.275340</td>\n",
       "      <td>22.026854</td>\n",
       "      <td>4.914964</td>\n",
       "    </tr>\n",
       "    <tr>\n",
       "      <th>3</th>\n",
       "      <td>0.695686</td>\n",
       "      <td>0.615486</td>\n",
       "      <td>-8.183910</td>\n",
       "      <td>0.404837</td>\n",
       "      <td>0.240739</td>\n",
       "      <td>0.014055</td>\n",
       "      <td>0.231262</td>\n",
       "      <td>0.510161</td>\n",
       "      <td>118.292245</td>\n",
       "      <td>0.017489</td>\n",
       "      <td>26.453775</td>\n",
       "      <td>5.222371</td>\n",
       "    </tr>\n",
       "    <tr>\n",
       "      <th>4</th>\n",
       "      <td>0.585103</td>\n",
       "      <td>0.796799</td>\n",
       "      <td>-7.702505</td>\n",
       "      <td>0.064650</td>\n",
       "      <td>0.061218</td>\n",
       "      <td>0.749325</td>\n",
       "      <td>0.201832</td>\n",
       "      <td>0.312975</td>\n",
       "      <td>129.275112</td>\n",
       "      <td>0.054683</td>\n",
       "      <td>11.826501</td>\n",
       "      <td>5.526762</td>\n",
       "    </tr>\n",
       "  </tbody>\n",
       "</table>\n",
       "</div>"
      ],
      "text/plain": [
       "  danceability    energy   loudness speechiness acousticness instrumentalness  \\\n",
       "0     0.440523  0.812463  -6.978331    0.098930     0.131244         0.096075   \n",
       "1     0.621406  0.728500  -6.123216    0.079802     0.119069         0.023046   \n",
       "2     0.448186  0.311010 -14.284365    0.055819     0.715747         0.286191   \n",
       "3     0.695686  0.615486  -8.183910    0.404837     0.240739         0.014055   \n",
       "4     0.585103  0.796799  -7.702505    0.064650     0.061218         0.749325   \n",
       "\n",
       "   liveness   valence       tempo      year popularity       key  \n",
       "0  0.719497  0.396399  127.831854  0.162100  19.436793  5.318659  \n",
       "1  0.170746  0.488050  124.649233  0.127740  28.024564  5.314883  \n",
       "2  0.194642  0.315965  110.175740  0.275340  22.026854  4.914964  \n",
       "3  0.231262  0.510161  118.292245  0.017489  26.453775  5.222371  \n",
       "4  0.201832  0.312975  129.275112  0.054683  11.826501  5.526762  "
      ]
     },
     "execution_count": 353,
     "metadata": {},
     "output_type": "execute_result"
    }
   ],
   "source": [
    "centroids = pd.DataFrame(\n",
    "sc.inverse_transform(km.cluster_centers_),\n",
    "columns = list([music_data[list(float_cols) + list(int_cols)].columns]))\n",
    "\n",
    "centroids"
   ]
  },
  {
   "cell_type": "code",
   "execution_count": null,
   "metadata": {},
   "outputs": [
    {
     "data": {
      "text/plain": [
       "0.1386830225794639"
      ]
     },
     "execution_count": 354,
     "metadata": {},
     "output_type": "execute_result"
    }
   ],
   "source": [
    "silhouette_score(clust_1_sc, km.labels_)"
   ]
  },
  {
   "cell_type": "code",
   "execution_count": null,
   "metadata": {},
   "outputs": [],
   "source": [
    "def similarity(id1, id2):\n",
    "    a = clust_1.drop(columns=['cluster', 'predictions']).loc[[id1]]\n",
    "    b = clust_1.drop(columns=['cluster', 'predictions']).loc[[id2]]\n",
    "\n",
    "    distance = spatial.distance.cosine(a[a.columns], b[b.columns])\n",
    "    return distance"
   ]
  },
  {
   "cell_type": "code",
   "execution_count": null,
   "metadata": {},
   "outputs": [],
   "source": [
    "def songs2(id):\n",
    "    distances = {}\n",
    "    group = clust_1.loc[clust_1['cluster'] == clust_1[\"cluster\"].loc[id]]\n",
    "    float_cols = group.dtypes[group.dtypes == 'float64'].index.values\n",
    "    for i in list(group[float_cols].index):\n",
    "        dist = similarity(id, i)\n",
    "        distances.update({i:dist})\n",
    "    return distances    "
   ]
  },
  {
   "cell_type": "code",
   "execution_count": null,
   "metadata": {},
   "outputs": [],
   "source": [
    "rec_2 = songs2(song_id)"
   ]
  },
  {
   "cell_type": "markdown",
   "metadata": {},
   "source": [
    "|Song|song_1|song_2|song_3|song_4|song_5|\n",
    "|---|---|---|---|---|---|\n",
    "|song_1|1.0|0.6|0.8|0.4|0.0|\n",
    "|song_2|0.6|1.0|0.5|0.9|0.2|\n",
    "|song_3|0.8|.5|1.0|0.7|0.7|\n",
    "|song_4|0.4|0.9|0.7|1.0|0.3|\n",
    "|song_5|0.0|0.2|0.7|0.3|1.0| "
   ]
  },
  {
   "cell_type": "code",
   "execution_count": null,
   "metadata": {},
   "outputs": [
    {
     "data": {
      "text/html": [
       "<div>\n",
       "<style scoped>\n",
       "    .dataframe tbody tr th:only-of-type {\n",
       "        vertical-align: middle;\n",
       "    }\n",
       "\n",
       "    .dataframe tbody tr th {\n",
       "        vertical-align: top;\n",
       "    }\n",
       "\n",
       "    .dataframe thead th {\n",
       "        text-align: right;\n",
       "    }\n",
       "</style>\n",
       "<table border=\"1\" class=\"dataframe\">\n",
       "  <thead>\n",
       "    <tr style=\"text-align: right;\">\n",
       "      <th></th>\n",
       "      <th>0</th>\n",
       "      <th>1</th>\n",
       "    </tr>\n",
       "  </thead>\n",
       "  <tbody>\n",
       "    <tr>\n",
       "      <th>38180</th>\n",
       "      <td>08mG3Y1vljYA6bvDt4Wqkj</td>\n",
       "      <td>0.000000</td>\n",
       "    </tr>\n",
       "    <tr>\n",
       "      <th>38561</th>\n",
       "      <td>6JmV5cyTQ934NxLY4Z0tg1</td>\n",
       "      <td>0.000020</td>\n",
       "    </tr>\n",
       "    <tr>\n",
       "      <th>25521</th>\n",
       "      <td>53SfB4huCgiRGmwzJdEo1u</td>\n",
       "      <td>0.000025</td>\n",
       "    </tr>\n",
       "    <tr>\n",
       "      <th>36028</th>\n",
       "      <td>6n2GPvMJtFZ4ckoc9EWHMx</td>\n",
       "      <td>0.000030</td>\n",
       "    </tr>\n",
       "    <tr>\n",
       "      <th>27827</th>\n",
       "      <td>02FuO3zDHGFAz0yP7HHGvy</td>\n",
       "      <td>0.000036</td>\n",
       "    </tr>\n",
       "  </tbody>\n",
       "</table>\n",
       "</div>"
      ],
      "text/plain": [
       "                            0         1\n",
       "38180  08mG3Y1vljYA6bvDt4Wqkj  0.000000\n",
       "38561  6JmV5cyTQ934NxLY4Z0tg1  0.000020\n",
       "25521  53SfB4huCgiRGmwzJdEo1u  0.000025\n",
       "36028  6n2GPvMJtFZ4ckoc9EWHMx  0.000030\n",
       "27827  02FuO3zDHGFAz0yP7HHGvy  0.000036"
      ]
     },
     "execution_count": 358,
     "metadata": {},
     "output_type": "execute_result"
    }
   ],
   "source": [
    "rec_2_df = pd.DataFrame(rec_2.items())\n",
    "rec_2_df = rec_2_df.sort_values(by=1)\n",
    "rec_2_df.head()"
   ]
  },
  {
   "cell_type": "code",
   "execution_count": null,
   "metadata": {},
   "outputs": [],
   "source": [
    "#Code from kmeans lesson\n",
    "scores = []\n",
    "\n",
    "for k in range(2, 15):\n",
    "    cl = KMeans(n_clusters=k)\n",
    "    cl.fit(clust_1_sc)\n",
    "    inertia = cl.inertia_\n",
    "    sil = silhouette_score(clust_1_sc, cl.labels_)\n",
    "    scores.append([k, inertia, sil])\n",
    "    \n",
    "score_df = pd.DataFrame(scores, columns = ['k', 'inertia', 'silhouette'])"
   ]
  },
  {
   "cell_type": "code",
   "execution_count": null,
   "metadata": {},
   "outputs": [
    {
     "data": {
      "text/html": [
       "<div>\n",
       "<style scoped>\n",
       "    .dataframe tbody tr th:only-of-type {\n",
       "        vertical-align: middle;\n",
       "    }\n",
       "\n",
       "    .dataframe tbody tr th {\n",
       "        vertical-align: top;\n",
       "    }\n",
       "\n",
       "    .dataframe thead th {\n",
       "        text-align: right;\n",
       "    }\n",
       "</style>\n",
       "<table border=\"1\" class=\"dataframe\">\n",
       "  <thead>\n",
       "    <tr style=\"text-align: right;\">\n",
       "      <th></th>\n",
       "      <th>k</th>\n",
       "      <th>inertia</th>\n",
       "      <th>silhouette</th>\n",
       "    </tr>\n",
       "  </thead>\n",
       "  <tbody>\n",
       "    <tr>\n",
       "      <th>0</th>\n",
       "      <td>2</td>\n",
       "      <td>849443.704718</td>\n",
       "      <td>0.230347</td>\n",
       "    </tr>\n",
       "    <tr>\n",
       "      <th>1</th>\n",
       "      <td>3</td>\n",
       "      <td>773125.812814</td>\n",
       "      <td>0.112420</td>\n",
       "    </tr>\n",
       "    <tr>\n",
       "      <th>2</th>\n",
       "      <td>4</td>\n",
       "      <td>722902.293619</td>\n",
       "      <td>0.138715</td>\n",
       "    </tr>\n",
       "    <tr>\n",
       "      <th>3</th>\n",
       "      <td>5</td>\n",
       "      <td>679855.996506</td>\n",
       "      <td>0.138741</td>\n",
       "    </tr>\n",
       "    <tr>\n",
       "      <th>4</th>\n",
       "      <td>6</td>\n",
       "      <td>644514.395816</td>\n",
       "      <td>0.116021</td>\n",
       "    </tr>\n",
       "    <tr>\n",
       "      <th>5</th>\n",
       "      <td>7</td>\n",
       "      <td>616169.521556</td>\n",
       "      <td>0.112977</td>\n",
       "    </tr>\n",
       "    <tr>\n",
       "      <th>6</th>\n",
       "      <td>8</td>\n",
       "      <td>589423.533533</td>\n",
       "      <td>0.112808</td>\n",
       "    </tr>\n",
       "    <tr>\n",
       "      <th>7</th>\n",
       "      <td>9</td>\n",
       "      <td>568899.433449</td>\n",
       "      <td>0.113341</td>\n",
       "    </tr>\n",
       "    <tr>\n",
       "      <th>8</th>\n",
       "      <td>10</td>\n",
       "      <td>551726.312705</td>\n",
       "      <td>0.107734</td>\n",
       "    </tr>\n",
       "    <tr>\n",
       "      <th>9</th>\n",
       "      <td>11</td>\n",
       "      <td>538501.621165</td>\n",
       "      <td>0.104903</td>\n",
       "    </tr>\n",
       "    <tr>\n",
       "      <th>10</th>\n",
       "      <td>12</td>\n",
       "      <td>528519.406928</td>\n",
       "      <td>0.102808</td>\n",
       "    </tr>\n",
       "    <tr>\n",
       "      <th>11</th>\n",
       "      <td>13</td>\n",
       "      <td>516986.097703</td>\n",
       "      <td>0.101249</td>\n",
       "    </tr>\n",
       "    <tr>\n",
       "      <th>12</th>\n",
       "      <td>14</td>\n",
       "      <td>508887.203247</td>\n",
       "      <td>0.099986</td>\n",
       "    </tr>\n",
       "  </tbody>\n",
       "</table>\n",
       "</div>"
      ],
      "text/plain": [
       "     k        inertia  silhouette\n",
       "0    2  849443.704718    0.230347\n",
       "1    3  773125.812814    0.112420\n",
       "2    4  722902.293619    0.138715\n",
       "3    5  679855.996506    0.138741\n",
       "4    6  644514.395816    0.116021\n",
       "5    7  616169.521556    0.112977\n",
       "6    8  589423.533533    0.112808\n",
       "7    9  568899.433449    0.113341\n",
       "8   10  551726.312705    0.107734\n",
       "9   11  538501.621165    0.104903\n",
       "10  12  528519.406928    0.102808\n",
       "11  13  516986.097703    0.101249\n",
       "12  14  508887.203247    0.099986"
      ]
     },
     "execution_count": 360,
     "metadata": {},
     "output_type": "execute_result"
    }
   ],
   "source": [
    "score_df"
   ]
  },
  {
   "cell_type": "code",
   "execution_count": null,
   "metadata": {},
   "outputs": [
    {
     "data": {
      "image/png": "[encoded data removed]",
      "text/plain": [
       "<Figure size 1008x504 with 2 Axes>"
      ]
     },
     "metadata": {
      "needs_background": "light"
     },
     "output_type": "display_data"
    }
   ],
   "source": [
    "axs = score_df.plot(x = 'k', subplots = True,\n",
    "                   layout = (1, 2),\n",
    "                   figsize = (14, 7),\n",
    "                   marker = 'o')"
   ]
  },
  {
   "cell_type": "code",
   "execution_count": null,
   "metadata": {},
   "outputs": [],
   "source": [
    "pca = PCA(n_components=2, random_state = 42)"
   ]
  },
  {
   "cell_type": "code",
   "execution_count": null,
   "metadata": {},
   "outputs": [],
   "source": [
    "clust_2 = clust_1.drop(columns=['cluster', 'predictions'])"
   ]
  },
  {
   "cell_type": "code",
   "execution_count": null,
   "metadata": {},
   "outputs": [
    {
     "data": {
      "text/plain": [
       "StandardScaler()"
      ]
     },
     "execution_count": 364,
     "metadata": {},
     "output_type": "execute_result"
    }
   ],
   "source": [
    "sc.fit(clust_2)"
   ]
  },
  {
   "cell_type": "code",
   "execution_count": null,
   "metadata": {},
   "outputs": [],
   "source": [
    "clust_2_sc = sc.transform(clust_2)"
   ]
  },
  {
   "cell_type": "code",
   "execution_count": null,
   "metadata": {},
   "outputs": [
    {
     "data": {
      "text/plain": [
       "PCA(n_components=2, random_state=42)"
      ]
     },
     "execution_count": 366,
     "metadata": {},
     "output_type": "execute_result"
    }
   ],
   "source": [
    "pca.fit(clust_2_sc)"
   ]
  },
  {
   "cell_type": "code",
   "execution_count": null,
   "metadata": {},
   "outputs": [],
   "source": [
    "clust_2_pca = pca.transform(clust_2_sc)"
   ]
  },
  {
   "cell_type": "code",
   "execution_count": null,
   "metadata": {},
   "outputs": [
    {
     "data": {
      "text/plain": [
       "(82691, 2)"
      ]
     },
     "execution_count": 368,
     "metadata": {},
     "output_type": "execute_result"
    }
   ],
   "source": [
    "clust_2_pca.shape"
   ]
  },
  {
   "cell_type": "code",
   "execution_count": null,
   "metadata": {},
   "outputs": [],
   "source": [
    "columns = [f'PCA_{i+1}' for i in pd.DataFrame(clust_2_pca).columns]\n",
    "clust_2_df = pd.DataFrame(data = clust_2_pca, columns=columns)\n",
    "clust_2_df['id'] = music_data['id']\n",
    "clust_2_df.set_index('id', inplace=True)"
   ]
  },
  {
   "cell_type": "code",
   "execution_count": null,
   "metadata": {},
   "outputs": [
    {
     "data": {
      "text/html": [
       "<div>\n",
       "<style scoped>\n",
       "    .dataframe tbody tr th:only-of-type {\n",
       "        vertical-align: middle;\n",
       "    }\n",
       "\n",
       "    .dataframe tbody tr th {\n",
       "        vertical-align: top;\n",
       "    }\n",
       "\n",
       "    .dataframe thead th {\n",
       "        text-align: right;\n",
       "    }\n",
       "</style>\n",
       "<table border=\"1\" class=\"dataframe\">\n",
       "  <thead>\n",
       "    <tr style=\"text-align: right;\">\n",
       "      <th></th>\n",
       "      <th>PCA_1</th>\n",
       "      <th>PCA_2</th>\n",
       "    </tr>\n",
       "    <tr>\n",
       "      <th>id</th>\n",
       "      <th></th>\n",
       "      <th></th>\n",
       "    </tr>\n",
       "  </thead>\n",
       "  <tbody>\n",
       "    <tr>\n",
       "      <th>3egj44N2tiuW5F2MrqmBjW</th>\n",
       "      <td>-0.558770</td>\n",
       "      <td>-0.867979</td>\n",
       "    </tr>\n",
       "    <tr>\n",
       "      <th>1WAWbKpQe3XMp4b96bjazD</th>\n",
       "      <td>-0.614137</td>\n",
       "      <td>0.417167</td>\n",
       "    </tr>\n",
       "    <tr>\n",
       "      <th>1HFIgvDlSCjC95Ch6h6gF7</th>\n",
       "      <td>-1.551567</td>\n",
       "      <td>0.040978</td>\n",
       "    </tr>\n",
       "    <tr>\n",
       "      <th>0mEYJIIBcUt2GH4ftYKJ5Q</th>\n",
       "      <td>0.128048</td>\n",
       "      <td>-0.579441</td>\n",
       "    </tr>\n",
       "    <tr>\n",
       "      <th>0vQ5VW753vuqUdi4mipjVl</th>\n",
       "      <td>-0.114351</td>\n",
       "      <td>-0.771169</td>\n",
       "    </tr>\n",
       "    <tr>\n",
       "      <th>...</th>\n",
       "      <td>...</td>\n",
       "      <td>...</td>\n",
       "    </tr>\n",
       "    <tr>\n",
       "      <th>0nCAVzknkzRXRgB6LhRv04</th>\n",
       "      <td>-1.993636</td>\n",
       "      <td>1.272568</td>\n",
       "    </tr>\n",
       "    <tr>\n",
       "      <th>3iUUve7vVMnS4zHLWpv3mh</th>\n",
       "      <td>-1.068483</td>\n",
       "      <td>-0.157570</td>\n",
       "    </tr>\n",
       "    <tr>\n",
       "      <th>3iYPdrNM4hzxfhmMhb3UoT</th>\n",
       "      <td>0.064958</td>\n",
       "      <td>0.802424</td>\n",
       "    </tr>\n",
       "    <tr>\n",
       "      <th>5fv9AxkRVzCwT5XkpYjWvL</th>\n",
       "      <td>-1.030957</td>\n",
       "      <td>0.731798</td>\n",
       "    </tr>\n",
       "    <tr>\n",
       "      <th>7GWViYkd4fTS3ApKuaTLEB</th>\n",
       "      <td>-0.121726</td>\n",
       "      <td>0.879750</td>\n",
       "    </tr>\n",
       "  </tbody>\n",
       "</table>\n",
       "<p>82691 rows × 2 columns</p>\n",
       "</div>"
      ],
      "text/plain": [
       "                           PCA_1     PCA_2\n",
       "id                                        \n",
       "3egj44N2tiuW5F2MrqmBjW -0.558770 -0.867979\n",
       "1WAWbKpQe3XMp4b96bjazD -0.614137  0.417167\n",
       "1HFIgvDlSCjC95Ch6h6gF7 -1.551567  0.040978\n",
       "0mEYJIIBcUt2GH4ftYKJ5Q  0.128048 -0.579441\n",
       "0vQ5VW753vuqUdi4mipjVl -0.114351 -0.771169\n",
       "...                          ...       ...\n",
       "0nCAVzknkzRXRgB6LhRv04 -1.993636  1.272568\n",
       "3iUUve7vVMnS4zHLWpv3mh -1.068483 -0.157570\n",
       "3iYPdrNM4hzxfhmMhb3UoT  0.064958  0.802424\n",
       "5fv9AxkRVzCwT5XkpYjWvL -1.030957  0.731798\n",
       "7GWViYkd4fTS3ApKuaTLEB -0.121726  0.879750\n",
       "\n",
       "[82691 rows x 2 columns]"
      ]
     },
     "execution_count": 370,
     "metadata": {},
     "output_type": "execute_result"
    }
   ],
   "source": [
    "clust_2_df"
   ]
  },
  {
   "cell_type": "code",
   "execution_count": null,
   "metadata": {},
   "outputs": [
    {
     "data": {
      "image/png": "[encoded data removed]",
      "text/plain": [
       "<Figure size 360x360 with 1 Axes>"
      ]
     },
     "metadata": {
      "needs_background": "light"
     },
     "output_type": "display_data"
    }
   ],
   "source": [
    "sns.lmplot(\n",
    "    x=\"PCA_1\",\n",
    "    y=\"PCA_2\",\n",
    "    data=clust_2_df, \n",
    "    fit_reg=False, \n",
    "    legend=True,   \n",
    "    scatter_kws={\"s\": 30} # specify the point size\n",
    ");"
   ]
  },
  {
   "cell_type": "code",
   "execution_count": null,
   "metadata": {},
   "outputs": [
    {
     "data": {
      "text/html": [
       "<div>\n",
       "<style scoped>\n",
       "    .dataframe tbody tr th:only-of-type {\n",
       "        vertical-align: middle;\n",
       "    }\n",
       "\n",
       "    .dataframe tbody tr th {\n",
       "        vertical-align: top;\n",
       "    }\n",
       "\n",
       "    .dataframe thead th {\n",
       "        text-align: right;\n",
       "    }\n",
       "</style>\n",
       "<table border=\"1\" class=\"dataframe\">\n",
       "  <thead>\n",
       "    <tr style=\"text-align: right;\">\n",
       "      <th></th>\n",
       "      <th>PCA_1</th>\n",
       "      <th>PCA_2</th>\n",
       "    </tr>\n",
       "    <tr>\n",
       "      <th>id</th>\n",
       "      <th></th>\n",
       "      <th></th>\n",
       "    </tr>\n",
       "  </thead>\n",
       "  <tbody>\n",
       "    <tr>\n",
       "      <th>3egj44N2tiuW5F2MrqmBjW</th>\n",
       "      <td>-0.558770</td>\n",
       "      <td>-0.867979</td>\n",
       "    </tr>\n",
       "    <tr>\n",
       "      <th>1WAWbKpQe3XMp4b96bjazD</th>\n",
       "      <td>-0.614137</td>\n",
       "      <td>0.417167</td>\n",
       "    </tr>\n",
       "    <tr>\n",
       "      <th>1HFIgvDlSCjC95Ch6h6gF7</th>\n",
       "      <td>-1.551567</td>\n",
       "      <td>0.040978</td>\n",
       "    </tr>\n",
       "    <tr>\n",
       "      <th>0mEYJIIBcUt2GH4ftYKJ5Q</th>\n",
       "      <td>0.128048</td>\n",
       "      <td>-0.579441</td>\n",
       "    </tr>\n",
       "    <tr>\n",
       "      <th>0vQ5VW753vuqUdi4mipjVl</th>\n",
       "      <td>-0.114351</td>\n",
       "      <td>-0.771169</td>\n",
       "    </tr>\n",
       "    <tr>\n",
       "      <th>...</th>\n",
       "      <td>...</td>\n",
       "      <td>...</td>\n",
       "    </tr>\n",
       "    <tr>\n",
       "      <th>0nCAVzknkzRXRgB6LhRv04</th>\n",
       "      <td>-1.993636</td>\n",
       "      <td>1.272568</td>\n",
       "    </tr>\n",
       "    <tr>\n",
       "      <th>3iUUve7vVMnS4zHLWpv3mh</th>\n",
       "      <td>-1.068483</td>\n",
       "      <td>-0.157570</td>\n",
       "    </tr>\n",
       "    <tr>\n",
       "      <th>3iYPdrNM4hzxfhmMhb3UoT</th>\n",
       "      <td>0.064958</td>\n",
       "      <td>0.802424</td>\n",
       "    </tr>\n",
       "    <tr>\n",
       "      <th>5fv9AxkRVzCwT5XkpYjWvL</th>\n",
       "      <td>-1.030957</td>\n",
       "      <td>0.731798</td>\n",
       "    </tr>\n",
       "    <tr>\n",
       "      <th>7GWViYkd4fTS3ApKuaTLEB</th>\n",
       "      <td>-0.121726</td>\n",
       "      <td>0.879750</td>\n",
       "    </tr>\n",
       "  </tbody>\n",
       "</table>\n",
       "<p>82691 rows × 2 columns</p>\n",
       "</div>"
      ],
      "text/plain": [
       "                           PCA_1     PCA_2\n",
       "id                                        \n",
       "3egj44N2tiuW5F2MrqmBjW -0.558770 -0.867979\n",
       "1WAWbKpQe3XMp4b96bjazD -0.614137  0.417167\n",
       "1HFIgvDlSCjC95Ch6h6gF7 -1.551567  0.040978\n",
       "0mEYJIIBcUt2GH4ftYKJ5Q  0.128048 -0.579441\n",
       "0vQ5VW753vuqUdi4mipjVl -0.114351 -0.771169\n",
       "...                          ...       ...\n",
       "0nCAVzknkzRXRgB6LhRv04 -1.993636  1.272568\n",
       "3iUUve7vVMnS4zHLWpv3mh -1.068483 -0.157570\n",
       "3iYPdrNM4hzxfhmMhb3UoT  0.064958  0.802424\n",
       "5fv9AxkRVzCwT5XkpYjWvL -1.030957  0.731798\n",
       "7GWViYkd4fTS3ApKuaTLEB -0.121726  0.879750\n",
       "\n",
       "[82691 rows x 2 columns]"
      ]
     },
     "execution_count": 372,
     "metadata": {},
     "output_type": "execute_result"
    }
   ],
   "source": [
    "clust_2_df"
   ]
  },
  {
   "cell_type": "code",
   "execution_count": null,
   "metadata": {},
   "outputs": [],
   "source": [
    "X1 = clust_2_df.copy()\n",
    "\n",
    "sc = StandardScaler()\n",
    "\n",
    "X1_sc = sc.fit_transform(X1)"
   ]
  },
  {
   "cell_type": "code",
   "execution_count": null,
   "metadata": {},
   "outputs": [
    {
     "data": {
      "text/html": [
       "<div>\n",
       "<style scoped>\n",
       "    .dataframe tbody tr th:only-of-type {\n",
       "        vertical-align: middle;\n",
       "    }\n",
       "\n",
       "    .dataframe tbody tr th {\n",
       "        vertical-align: top;\n",
       "    }\n",
       "\n",
       "    .dataframe thead th {\n",
       "        text-align: right;\n",
       "    }\n",
       "</style>\n",
       "<table border=\"1\" class=\"dataframe\">\n",
       "  <thead>\n",
       "    <tr style=\"text-align: right;\">\n",
       "      <th></th>\n",
       "      <th>PCA_1</th>\n",
       "      <th>PCA_2</th>\n",
       "    </tr>\n",
       "    <tr>\n",
       "      <th>id</th>\n",
       "      <th></th>\n",
       "      <th></th>\n",
       "    </tr>\n",
       "  </thead>\n",
       "  <tbody>\n",
       "    <tr>\n",
       "      <th>3egj44N2tiuW5F2MrqmBjW</th>\n",
       "      <td>-0.558770</td>\n",
       "      <td>-0.867979</td>\n",
       "    </tr>\n",
       "    <tr>\n",
       "      <th>1WAWbKpQe3XMp4b96bjazD</th>\n",
       "      <td>-0.614137</td>\n",
       "      <td>0.417167</td>\n",
       "    </tr>\n",
       "    <tr>\n",
       "      <th>1HFIgvDlSCjC95Ch6h6gF7</th>\n",
       "      <td>-1.551567</td>\n",
       "      <td>0.040978</td>\n",
       "    </tr>\n",
       "    <tr>\n",
       "      <th>0mEYJIIBcUt2GH4ftYKJ5Q</th>\n",
       "      <td>0.128048</td>\n",
       "      <td>-0.579441</td>\n",
       "    </tr>\n",
       "    <tr>\n",
       "      <th>0vQ5VW753vuqUdi4mipjVl</th>\n",
       "      <td>-0.114351</td>\n",
       "      <td>-0.771169</td>\n",
       "    </tr>\n",
       "    <tr>\n",
       "      <th>...</th>\n",
       "      <td>...</td>\n",
       "      <td>...</td>\n",
       "    </tr>\n",
       "    <tr>\n",
       "      <th>0nCAVzknkzRXRgB6LhRv04</th>\n",
       "      <td>-1.993636</td>\n",
       "      <td>1.272568</td>\n",
       "    </tr>\n",
       "    <tr>\n",
       "      <th>3iUUve7vVMnS4zHLWpv3mh</th>\n",
       "      <td>-1.068483</td>\n",
       "      <td>-0.157570</td>\n",
       "    </tr>\n",
       "    <tr>\n",
       "      <th>3iYPdrNM4hzxfhmMhb3UoT</th>\n",
       "      <td>0.064958</td>\n",
       "      <td>0.802424</td>\n",
       "    </tr>\n",
       "    <tr>\n",
       "      <th>5fv9AxkRVzCwT5XkpYjWvL</th>\n",
       "      <td>-1.030957</td>\n",
       "      <td>0.731798</td>\n",
       "    </tr>\n",
       "    <tr>\n",
       "      <th>7GWViYkd4fTS3ApKuaTLEB</th>\n",
       "      <td>-0.121726</td>\n",
       "      <td>0.879750</td>\n",
       "    </tr>\n",
       "  </tbody>\n",
       "</table>\n",
       "<p>82691 rows × 2 columns</p>\n",
       "</div>"
      ],
      "text/plain": [
       "                           PCA_1     PCA_2\n",
       "id                                        \n",
       "3egj44N2tiuW5F2MrqmBjW -0.558770 -0.867979\n",
       "1WAWbKpQe3XMp4b96bjazD -0.614137  0.417167\n",
       "1HFIgvDlSCjC95Ch6h6gF7 -1.551567  0.040978\n",
       "0mEYJIIBcUt2GH4ftYKJ5Q  0.128048 -0.579441\n",
       "0vQ5VW753vuqUdi4mipjVl -0.114351 -0.771169\n",
       "...                          ...       ...\n",
       "0nCAVzknkzRXRgB6LhRv04 -1.993636  1.272568\n",
       "3iUUve7vVMnS4zHLWpv3mh -1.068483 -0.157570\n",
       "3iYPdrNM4hzxfhmMhb3UoT  0.064958  0.802424\n",
       "5fv9AxkRVzCwT5XkpYjWvL -1.030957  0.731798\n",
       "7GWViYkd4fTS3ApKuaTLEB -0.121726  0.879750\n",
       "\n",
       "[82691 rows x 2 columns]"
      ]
     },
     "execution_count": 201,
     "metadata": {},
     "output_type": "execute_result"
    }
   ],
   "source": [
    "clust_2_df"
   ]
  },
  {
   "cell_type": "code",
   "execution_count": null,
   "metadata": {},
   "outputs": [
    {
     "data": {
      "text/plain": [
       "KMeans(n_clusters=3, random_state=42)"
      ]
     },
     "execution_count": 202,
     "metadata": {},
     "output_type": "execute_result"
    }
   ],
   "source": [
    "k = 3\n",
    "km = KMeans(n_clusters=k, random_state=42)\n",
    "km.fit(X1_sc)"
   ]
  },
  {
   "cell_type": "code",
   "execution_count": null,
   "metadata": {},
   "outputs": [
    {
     "data": {
      "text/plain": [
       "array([[-0.31732868, -0.94027601],\n",
       "       [ 1.86335633,  0.1672414 ],\n",
       "       [-0.37635668,  0.70018651]])"
      ]
     },
     "execution_count": 203,
     "metadata": {},
     "output_type": "execute_result"
    }
   ],
   "source": [
    "km.cluster_centers_"
   ]
  },
  {
   "cell_type": "code",
   "execution_count": null,
   "metadata": {},
   "outputs": [
    {
     "data": {
      "text/plain": [
       "array([0, 2, 2, ..., 2, 2, 2], dtype=int32)"
      ]
     },
     "execution_count": 204,
     "metadata": {},
     "output_type": "execute_result"
    }
   ],
   "source": [
    "km.labels_"
   ]
  },
  {
   "cell_type": "code",
   "execution_count": null,
   "metadata": {},
   "outputs": [],
   "source": [
    "pred = km.predict(X1_sc)"
   ]
  },
  {
   "cell_type": "code",
   "execution_count": null,
   "metadata": {},
   "outputs": [],
   "source": [
    "clust_2_df['cluster'] = km.labels_\n",
    "clust_2_df['predictions'] = pred"
   ]
  },
  {
   "cell_type": "code",
   "execution_count": null,
   "metadata": {},
   "outputs": [
    {
     "data": {
      "text/html": [
       "<div>\n",
       "<style scoped>\n",
       "    .dataframe tbody tr th:only-of-type {\n",
       "        vertical-align: middle;\n",
       "    }\n",
       "\n",
       "    .dataframe tbody tr th {\n",
       "        vertical-align: top;\n",
       "    }\n",
       "\n",
       "    .dataframe thead th {\n",
       "        text-align: right;\n",
       "    }\n",
       "</style>\n",
       "<table border=\"1\" class=\"dataframe\">\n",
       "  <thead>\n",
       "    <tr style=\"text-align: right;\">\n",
       "      <th></th>\n",
       "      <th>PCA_1</th>\n",
       "      <th>PCA_2</th>\n",
       "      <th>cluster</th>\n",
       "      <th>predictions</th>\n",
       "    </tr>\n",
       "    <tr>\n",
       "      <th>id</th>\n",
       "      <th></th>\n",
       "      <th></th>\n",
       "      <th></th>\n",
       "      <th></th>\n",
       "    </tr>\n",
       "  </thead>\n",
       "  <tbody>\n",
       "    <tr>\n",
       "      <th>3egj44N2tiuW5F2MrqmBjW</th>\n",
       "      <td>-0.558770</td>\n",
       "      <td>-0.867979</td>\n",
       "      <td>0</td>\n",
       "      <td>0</td>\n",
       "    </tr>\n",
       "    <tr>\n",
       "      <th>1WAWbKpQe3XMp4b96bjazD</th>\n",
       "      <td>-0.614137</td>\n",
       "      <td>0.417167</td>\n",
       "      <td>2</td>\n",
       "      <td>2</td>\n",
       "    </tr>\n",
       "    <tr>\n",
       "      <th>1HFIgvDlSCjC95Ch6h6gF7</th>\n",
       "      <td>-1.551567</td>\n",
       "      <td>0.040978</td>\n",
       "      <td>2</td>\n",
       "      <td>2</td>\n",
       "    </tr>\n",
       "    <tr>\n",
       "      <th>0mEYJIIBcUt2GH4ftYKJ5Q</th>\n",
       "      <td>0.128048</td>\n",
       "      <td>-0.579441</td>\n",
       "      <td>0</td>\n",
       "      <td>0</td>\n",
       "    </tr>\n",
       "    <tr>\n",
       "      <th>0vQ5VW753vuqUdi4mipjVl</th>\n",
       "      <td>-0.114351</td>\n",
       "      <td>-0.771169</td>\n",
       "      <td>0</td>\n",
       "      <td>0</td>\n",
       "    </tr>\n",
       "  </tbody>\n",
       "</table>\n",
       "</div>"
      ],
      "text/plain": [
       "                           PCA_1     PCA_2  cluster  predictions\n",
       "id                                                              \n",
       "3egj44N2tiuW5F2MrqmBjW -0.558770 -0.867979        0            0\n",
       "1WAWbKpQe3XMp4b96bjazD -0.614137  0.417167        2            2\n",
       "1HFIgvDlSCjC95Ch6h6gF7 -1.551567  0.040978        2            2\n",
       "0mEYJIIBcUt2GH4ftYKJ5Q  0.128048 -0.579441        0            0\n",
       "0vQ5VW753vuqUdi4mipjVl -0.114351 -0.771169        0            0"
      ]
     },
     "execution_count": 207,
     "metadata": {},
     "output_type": "execute_result"
    }
   ],
   "source": [
    "clust_2_df.head()"
   ]
  },
  {
   "cell_type": "code",
   "execution_count": null,
   "metadata": {},
   "outputs": [
    {
     "data": {
      "text/html": [
       "<div>\n",
       "<style scoped>\n",
       "    .dataframe tbody tr th:only-of-type {\n",
       "        vertical-align: middle;\n",
       "    }\n",
       "\n",
       "    .dataframe tbody tr th {\n",
       "        vertical-align: top;\n",
       "    }\n",
       "\n",
       "    .dataframe thead th {\n",
       "        text-align: right;\n",
       "    }\n",
       "</style>\n",
       "<table border=\"1\" class=\"dataframe\">\n",
       "  <thead>\n",
       "    <tr style=\"text-align: right;\">\n",
       "      <th></th>\n",
       "      <th>PCA_1</th>\n",
       "      <th>PCA_2</th>\n",
       "    </tr>\n",
       "  </thead>\n",
       "  <tbody>\n",
       "    <tr>\n",
       "      <th>0</th>\n",
       "      <td>-0.502780</td>\n",
       "      <td>-1.225938</td>\n",
       "    </tr>\n",
       "    <tr>\n",
       "      <th>1</th>\n",
       "      <td>2.952326</td>\n",
       "      <td>0.218051</td>\n",
       "    </tr>\n",
       "    <tr>\n",
       "      <th>2</th>\n",
       "      <td>-0.596304</td>\n",
       "      <td>0.912908</td>\n",
       "    </tr>\n",
       "  </tbody>\n",
       "</table>\n",
       "</div>"
      ],
      "text/plain": [
       "      PCA_1     PCA_2\n",
       "0 -0.502780 -1.225938\n",
       "1  2.952326  0.218051\n",
       "2 -0.596304  0.912908"
      ]
     },
     "execution_count": 209,
     "metadata": {},
     "output_type": "execute_result"
    }
   ],
   "source": [
    "centroids = pd.DataFrame(\n",
    "sc.inverse_transform(km.cluster_centers_),\n",
    "columns = ['PCA_1', 'PCA_2'])\n",
    "\n",
    "centroids"
   ]
  },
  {
   "cell_type": "code",
   "execution_count": null,
   "metadata": {},
   "outputs": [
    {
     "data": {
      "text/plain": [
       "<AxesSubplot:xlabel='PCA_1', ylabel='PCA_2'>"
      ]
     },
     "execution_count": 211,
     "metadata": {},
     "output_type": "execute_result"
    },
    {
     "data": {
      "image/png": "[encoded data removed]",
      "text/plain": [
       "<Figure size 720x576 with 1 Axes>"
      ]
     },
     "metadata": {
      "needs_background": "light"
     },
     "output_type": "display_data"
    }
   ],
   "source": [
    "color_map = {0:\"red\", 1:\"green\", 2:\"blue\"}\n",
    "clust_2_df['color'] = clust_2_df['cluster'].map(color_map)\n",
    "\n",
    "ax = clust_2_df.plot(    \n",
    "    kind=\"scatter\", \n",
    "    x=\"PCA_1\",\n",
    "    y=\"PCA_2\",\n",
    "    figsize=(10,8),\n",
    "    c = 'color'\n",
    ")\n",
    "\n",
    "centroids.plot(\n",
    "    kind=\"scatter\", \n",
    "    x=\"PCA_1\",\n",
    "    y=\"PCA_2\", \n",
    "    marker=\"*\",\n",
    "    c=centroids.index.map(color_map),\n",
    "    s=550,\n",
    "    ax=ax\n",
    ")"
   ]
  },
  {
   "cell_type": "code",
   "execution_count": null,
   "metadata": {},
   "outputs": [
    {
     "data": {
      "text/plain": [
       "0.4085914154459091"
      ]
     },
     "execution_count": 212,
     "metadata": {},
     "output_type": "execute_result"
    }
   ],
   "source": [
    "silhouette_score(X1_sc, km.labels_)"
   ]
  },
  {
   "cell_type": "code",
   "execution_count": null,
   "metadata": {},
   "outputs": [],
   "source": [
    "scores = []\n",
    "\n",
    "for k in range(2, 15):\n",
    "    cl = KMeans(n_clusters=k)\n",
    "    cl.fit(X1_sc)\n",
    "    inertia = cl.inertia_\n",
    "    sil = silhouette_score(X1_sc, cl.labels_)\n",
    "    scores.append([k, inertia, sil])\n",
    "    \n",
    "score_df = pd.DataFrame(scores, columns = ['k', 'inertia', 'silhouette'])"
   ]
  },
  {
   "cell_type": "code",
   "execution_count": null,
   "metadata": {},
   "outputs": [],
   "source": [
    "score_df"
   ]
  },
  {
   "cell_type": "code",
   "execution_count": null,
   "metadata": {},
   "outputs": [
    {
     "data": {
      "image/png": "[encoded data removed]",
      "text/plain": [
       "<Figure size 1008x504 with 2 Axes>"
      ]
     },
     "metadata": {
      "needs_background": "light"
     },
     "output_type": "display_data"
    }
   ],
   "source": [
    "axs = score_df.plot(x = 'k', subplots = True,\n",
    "                   layout = (1, 2),\n",
    "                   figsize = (14, 7),\n",
    "                   marker = 'o')"
   ]
  },
  {
   "cell_type": "code",
   "execution_count": null,
   "metadata": {},
   "outputs": [
    {
     "data": {
      "text/html": [
       "<div>\n",
       "<style scoped>\n",
       "    .dataframe tbody tr th:only-of-type {\n",
       "        vertical-align: middle;\n",
       "    }\n",
       "\n",
       "    .dataframe tbody tr th {\n",
       "        vertical-align: top;\n",
       "    }\n",
       "\n",
       "    .dataframe thead th {\n",
       "        text-align: right;\n",
       "    }\n",
       "</style>\n",
       "<table border=\"1\" class=\"dataframe\">\n",
       "  <thead>\n",
       "    <tr style=\"text-align: right;\">\n",
       "      <th></th>\n",
       "      <th>PCA_1</th>\n",
       "      <th>PCA_2</th>\n",
       "      <th>cluster</th>\n",
       "      <th>predictions</th>\n",
       "      <th>color</th>\n",
       "    </tr>\n",
       "    <tr>\n",
       "      <th>id</th>\n",
       "      <th></th>\n",
       "      <th></th>\n",
       "      <th></th>\n",
       "      <th></th>\n",
       "      <th></th>\n",
       "    </tr>\n",
       "  </thead>\n",
       "  <tbody>\n",
       "    <tr>\n",
       "      <th>3egj44N2tiuW5F2MrqmBjW</th>\n",
       "      <td>-0.558770</td>\n",
       "      <td>-0.867979</td>\n",
       "      <td>0</td>\n",
       "      <td>0</td>\n",
       "      <td>red</td>\n",
       "    </tr>\n",
       "    <tr>\n",
       "      <th>1WAWbKpQe3XMp4b96bjazD</th>\n",
       "      <td>-0.614137</td>\n",
       "      <td>0.417167</td>\n",
       "      <td>2</td>\n",
       "      <td>2</td>\n",
       "      <td>blue</td>\n",
       "    </tr>\n",
       "    <tr>\n",
       "      <th>1HFIgvDlSCjC95Ch6h6gF7</th>\n",
       "      <td>-1.551567</td>\n",
       "      <td>0.040978</td>\n",
       "      <td>2</td>\n",
       "      <td>2</td>\n",
       "      <td>blue</td>\n",
       "    </tr>\n",
       "    <tr>\n",
       "      <th>0mEYJIIBcUt2GH4ftYKJ5Q</th>\n",
       "      <td>0.128048</td>\n",
       "      <td>-0.579441</td>\n",
       "      <td>0</td>\n",
       "      <td>0</td>\n",
       "      <td>red</td>\n",
       "    </tr>\n",
       "    <tr>\n",
       "      <th>0vQ5VW753vuqUdi4mipjVl</th>\n",
       "      <td>-0.114351</td>\n",
       "      <td>-0.771169</td>\n",
       "      <td>0</td>\n",
       "      <td>0</td>\n",
       "      <td>red</td>\n",
       "    </tr>\n",
       "    <tr>\n",
       "      <th>...</th>\n",
       "      <td>...</td>\n",
       "      <td>...</td>\n",
       "      <td>...</td>\n",
       "      <td>...</td>\n",
       "      <td>...</td>\n",
       "    </tr>\n",
       "    <tr>\n",
       "      <th>0nCAVzknkzRXRgB6LhRv04</th>\n",
       "      <td>-1.993636</td>\n",
       "      <td>1.272568</td>\n",
       "      <td>2</td>\n",
       "      <td>2</td>\n",
       "      <td>blue</td>\n",
       "    </tr>\n",
       "    <tr>\n",
       "      <th>3iUUve7vVMnS4zHLWpv3mh</th>\n",
       "      <td>-1.068483</td>\n",
       "      <td>-0.157570</td>\n",
       "      <td>2</td>\n",
       "      <td>2</td>\n",
       "      <td>blue</td>\n",
       "    </tr>\n",
       "    <tr>\n",
       "      <th>3iYPdrNM4hzxfhmMhb3UoT</th>\n",
       "      <td>0.064958</td>\n",
       "      <td>0.802424</td>\n",
       "      <td>2</td>\n",
       "      <td>2</td>\n",
       "      <td>blue</td>\n",
       "    </tr>\n",
       "    <tr>\n",
       "      <th>5fv9AxkRVzCwT5XkpYjWvL</th>\n",
       "      <td>-1.030957</td>\n",
       "      <td>0.731798</td>\n",
       "      <td>2</td>\n",
       "      <td>2</td>\n",
       "      <td>blue</td>\n",
       "    </tr>\n",
       "    <tr>\n",
       "      <th>7GWViYkd4fTS3ApKuaTLEB</th>\n",
       "      <td>-0.121726</td>\n",
       "      <td>0.879750</td>\n",
       "      <td>2</td>\n",
       "      <td>2</td>\n",
       "      <td>blue</td>\n",
       "    </tr>\n",
       "  </tbody>\n",
       "</table>\n",
       "<p>82691 rows × 5 columns</p>\n",
       "</div>"
      ],
      "text/plain": [
       "                           PCA_1     PCA_2  cluster  predictions color\n",
       "id                                                                    \n",
       "3egj44N2tiuW5F2MrqmBjW -0.558770 -0.867979        0            0   red\n",
       "1WAWbKpQe3XMp4b96bjazD -0.614137  0.417167        2            2  blue\n",
       "1HFIgvDlSCjC95Ch6h6gF7 -1.551567  0.040978        2            2  blue\n",
       "0mEYJIIBcUt2GH4ftYKJ5Q  0.128048 -0.579441        0            0   red\n",
       "0vQ5VW753vuqUdi4mipjVl -0.114351 -0.771169        0            0   red\n",
       "...                          ...       ...      ...          ...   ...\n",
       "0nCAVzknkzRXRgB6LhRv04 -1.993636  1.272568        2            2  blue\n",
       "3iUUve7vVMnS4zHLWpv3mh -1.068483 -0.157570        2            2  blue\n",
       "3iYPdrNM4hzxfhmMhb3UoT  0.064958  0.802424        2            2  blue\n",
       "5fv9AxkRVzCwT5XkpYjWvL -1.030957  0.731798        2            2  blue\n",
       "7GWViYkd4fTS3ApKuaTLEB -0.121726  0.879750        2            2  blue\n",
       "\n",
       "[82691 rows x 5 columns]"
      ]
     },
     "execution_count": 232,
     "metadata": {},
     "output_type": "execute_result"
    }
   ],
   "source": [
    "clust_2_df"
   ]
  },
  {
   "cell_type": "code",
   "execution_count": null,
   "metadata": {},
   "outputs": [],
   "source": [
    "def similarity(id1, id2):\n",
    "    a = clust_2_df.drop(columns=['cluster', 'predictions', 'color']).loc[[id1]]\n",
    "    b = clust_2_df.drop(columns=['cluster', 'predictions', 'color']).loc[[id2]]\n",
    "\n",
    "    distance = spatial.distance.cosine(a[a.columns], b[b.columns])\n",
    "    return distance"
   ]
  },
  {
   "cell_type": "code",
   "execution_count": null,
   "metadata": {},
   "outputs": [
    {
     "data": {
      "text/html": [
       "<div>\n",
       "<style scoped>\n",
       "    .dataframe tbody tr th:only-of-type {\n",
       "        vertical-align: middle;\n",
       "    }\n",
       "\n",
       "    .dataframe tbody tr th {\n",
       "        vertical-align: top;\n",
       "    }\n",
       "\n",
       "    .dataframe thead th {\n",
       "        text-align: right;\n",
       "    }\n",
       "</style>\n",
       "<table border=\"1\" class=\"dataframe\">\n",
       "  <thead>\n",
       "    <tr style=\"text-align: right;\">\n",
       "      <th></th>\n",
       "      <th>PCA_1</th>\n",
       "      <th>PCA_2</th>\n",
       "    </tr>\n",
       "    <tr>\n",
       "      <th>id</th>\n",
       "      <th></th>\n",
       "      <th></th>\n",
       "    </tr>\n",
       "  </thead>\n",
       "  <tbody>\n",
       "    <tr>\n",
       "      <th>7GWViYkd4fTS3ApKuaTLEB</th>\n",
       "      <td>-0.121726</td>\n",
       "      <td>0.87975</td>\n",
       "    </tr>\n",
       "  </tbody>\n",
       "</table>\n",
       "</div>"
      ],
      "text/plain": [
       "                           PCA_1    PCA_2\n",
       "id                                       \n",
       "7GWViYkd4fTS3ApKuaTLEB -0.121726  0.87975"
      ]
     },
     "execution_count": 242,
     "metadata": {},
     "output_type": "execute_result"
    }
   ],
   "source": [
    "clust_2_df.drop(columns=['cluster', 'predictions', 'color']).loc[['7GWViYkd4fTS3ApKuaTLEB']]"
   ]
  },
  {
   "cell_type": "code",
   "execution_count": null,
   "metadata": {},
   "outputs": [],
   "source": [
    "  def songs2(id):\n",
    "    distances = {}\n",
    "    group = clust_2_df.loc[clust_2_df['cluster'] == clust_2_df[\"cluster\"].loc[id]]\n",
    "    float_cols = group.dtypes[group.dtypes == 'float64'].index.values\n",
    "    for i in list(group[float_cols].index):\n",
    "        dist = similarity(id, i)\n",
    "        distances.update({i:dist})\n",
    "    return distances  "
   ]
  },
  {
   "cell_type": "code",
   "execution_count": null,
   "metadata": {},
   "outputs": [],
   "source": [
    "clust_2_recs = songs2(song_id)"
   ]
  },
  {
   "cell_type": "code",
   "execution_count": null,
   "metadata": {},
   "outputs": [
    {
     "data": {
      "text/html": [
       "<div>\n",
       "<style scoped>\n",
       "    .dataframe tbody tr th:only-of-type {\n",
       "        vertical-align: middle;\n",
       "    }\n",
       "\n",
       "    .dataframe tbody tr th {\n",
       "        vertical-align: top;\n",
       "    }\n",
       "\n",
       "    .dataframe thead th {\n",
       "        text-align: right;\n",
       "    }\n",
       "</style>\n",
       "<table border=\"1\" class=\"dataframe\">\n",
       "  <thead>\n",
       "    <tr style=\"text-align: right;\">\n",
       "      <th></th>\n",
       "      <th>0</th>\n",
       "      <th>1</th>\n",
       "    </tr>\n",
       "  </thead>\n",
       "  <tbody>\n",
       "    <tr>\n",
       "      <th>37921</th>\n",
       "      <td>08mG3Y1vljYA6bvDt4Wqkj</td>\n",
       "      <td>0.000000e+00</td>\n",
       "    </tr>\n",
       "    <tr>\n",
       "      <th>32855</th>\n",
       "      <td>4ADRPFlyIBxRirzUJRdDLY</td>\n",
       "      <td>1.856299e-09</td>\n",
       "    </tr>\n",
       "    <tr>\n",
       "      <th>13462</th>\n",
       "      <td>2pKsXTkH5wsyfvsq8yH9sn</td>\n",
       "      <td>7.022370e-09</td>\n",
       "    </tr>\n",
       "    <tr>\n",
       "      <th>16369</th>\n",
       "      <td>3gMrOhg0iORWLrGjpHoMPt</td>\n",
       "      <td>1.137120e-08</td>\n",
       "    </tr>\n",
       "    <tr>\n",
       "      <th>13014</th>\n",
       "      <td>0jCmz1nJWNqcmidLl27z4t</td>\n",
       "      <td>2.131582e-08</td>\n",
       "    </tr>\n",
       "    <tr>\n",
       "      <th>28481</th>\n",
       "      <td>3uUJa7wv0IlJztVyA3nNXs</td>\n",
       "      <td>3.153832e-08</td>\n",
       "    </tr>\n",
       "    <tr>\n",
       "      <th>14305</th>\n",
       "      <td>0ea1OBAVKSKQ3qyVYhdBBX</td>\n",
       "      <td>5.978821e-08</td>\n",
       "    </tr>\n",
       "    <tr>\n",
       "      <th>28058</th>\n",
       "      <td>4BrzuWmOSuQuJwBaemIo12</td>\n",
       "      <td>7.861176e-08</td>\n",
       "    </tr>\n",
       "    <tr>\n",
       "      <th>16291</th>\n",
       "      <td>3fCh4mUqDKxHqDMNJX2Q78</td>\n",
       "      <td>8.118908e-08</td>\n",
       "    </tr>\n",
       "    <tr>\n",
       "      <th>16052</th>\n",
       "      <td>3ZLIgsGdXpGL0vvpnAJTfX</td>\n",
       "      <td>8.157268e-08</td>\n",
       "    </tr>\n",
       "    <tr>\n",
       "      <th>28432</th>\n",
       "      <td>6yGKx4J9UdMp7tcaGXWzDj</td>\n",
       "      <td>8.235245e-08</td>\n",
       "    </tr>\n",
       "    <tr>\n",
       "      <th>7252</th>\n",
       "      <td>0aWN6n9tFoX7QDmvmAr9h6</td>\n",
       "      <td>9.577050e-08</td>\n",
       "    </tr>\n",
       "    <tr>\n",
       "      <th>7102</th>\n",
       "      <td>6XvuIlipd1FZCHd4EQrJIW</td>\n",
       "      <td>1.125823e-07</td>\n",
       "    </tr>\n",
       "    <tr>\n",
       "      <th>33395</th>\n",
       "      <td>5i5ZBFceKut6duILGSQyK3</td>\n",
       "      <td>1.498654e-07</td>\n",
       "    </tr>\n",
       "    <tr>\n",
       "      <th>26342</th>\n",
       "      <td>6TnEIezhBbTZTIqHHMqIr2</td>\n",
       "      <td>1.524914e-07</td>\n",
       "    </tr>\n",
       "    <tr>\n",
       "      <th>8724</th>\n",
       "      <td>4AkXiViT54tYsgv6rSRpgJ</td>\n",
       "      <td>1.615721e-07</td>\n",
       "    </tr>\n",
       "    <tr>\n",
       "      <th>10777</th>\n",
       "      <td>3towMYYRq0s1D0CtIx5r5O</td>\n",
       "      <td>1.766102e-07</td>\n",
       "    </tr>\n",
       "    <tr>\n",
       "      <th>12063</th>\n",
       "      <td>3AMEKnqT7JKA4kDYcBTYr0</td>\n",
       "      <td>2.062938e-07</td>\n",
       "    </tr>\n",
       "    <tr>\n",
       "      <th>16022</th>\n",
       "      <td>4NzeA3GjfKrwjfY2rSSL2f</td>\n",
       "      <td>2.121572e-07</td>\n",
       "    </tr>\n",
       "    <tr>\n",
       "      <th>8414</th>\n",
       "      <td>0UxluWpe35qRNviCOIL9yG</td>\n",
       "      <td>2.154281e-07</td>\n",
       "    </tr>\n",
       "  </tbody>\n",
       "</table>\n",
       "</div>"
      ],
      "text/plain": [
       "                            0             1\n",
       "37921  08mG3Y1vljYA6bvDt4Wqkj  0.000000e+00\n",
       "32855  4ADRPFlyIBxRirzUJRdDLY  1.856299e-09\n",
       "13462  2pKsXTkH5wsyfvsq8yH9sn  7.022370e-09\n",
       "16369  3gMrOhg0iORWLrGjpHoMPt  1.137120e-08\n",
       "13014  0jCmz1nJWNqcmidLl27z4t  2.131582e-08\n",
       "28481  3uUJa7wv0IlJztVyA3nNXs  3.153832e-08\n",
       "14305  0ea1OBAVKSKQ3qyVYhdBBX  5.978821e-08\n",
       "28058  4BrzuWmOSuQuJwBaemIo12  7.861176e-08\n",
       "16291  3fCh4mUqDKxHqDMNJX2Q78  8.118908e-08\n",
       "16052  3ZLIgsGdXpGL0vvpnAJTfX  8.157268e-08\n",
       "28432  6yGKx4J9UdMp7tcaGXWzDj  8.235245e-08\n",
       "7252   0aWN6n9tFoX7QDmvmAr9h6  9.577050e-08\n",
       "7102   6XvuIlipd1FZCHd4EQrJIW  1.125823e-07\n",
       "33395  5i5ZBFceKut6duILGSQyK3  1.498654e-07\n",
       "26342  6TnEIezhBbTZTIqHHMqIr2  1.524914e-07\n",
       "8724   4AkXiViT54tYsgv6rSRpgJ  1.615721e-07\n",
       "10777  3towMYYRq0s1D0CtIx5r5O  1.766102e-07\n",
       "12063  3AMEKnqT7JKA4kDYcBTYr0  2.062938e-07\n",
       "16022  4NzeA3GjfKrwjfY2rSSL2f  2.121572e-07\n",
       "8414   0UxluWpe35qRNviCOIL9yG  2.154281e-07"
      ]
     },
     "execution_count": 265,
     "metadata": {},
     "output_type": "execute_result"
    }
   ],
   "source": [
    "clust_2_rec_df = pd.DataFrame(clust_2_recs.items())\n",
    "clust_2_rec_df = clust_2_rec_df.sort_values(by=1)\n",
    "clust_2_rec_df.head(20)"
   ]
  },
  {
   "cell_type": "code",
   "execution_count": null,
   "metadata": {},
   "outputs": [
    {
     "name": "stderr",
     "output_type": "stream",
     "text": [
      "/Users/sonnguyen/opt/anaconda3/envs/dsi-111/lib/python3.8/site-packages/skimage/io/manage_plugins.py:23: UserWarning: Your installed pillow version is < 7.1.0. Several security issues (CVE-2020-11538, CVE-2020-10379, CVE-2020-10994, CVE-2020-10177) have been fixed in pillow 7.1.0 or higher. We recommend to upgrade this library.\n",
      "  from .collection import imread_collection_wrapper\n"
     ]
    }
   ],
   "source": [
    "from skimage import io\n",
    "import matplotlib.pyplot as plt\n",
    "\n",
    "def visualize_songs(df):    \n",
    "    temp = df['url'].values\n",
    "    plt.figure(figsize=(15,int(0.625 * len(temp))))\n",
    "    columns = 5\n",
    "    \n",
    "    for i, url in enumerate(temp):\n",
    "        plt.subplot(len(temp) / columns + 1, columns, i + 1)\n",
    "\n",
    "        image = io.imread(url)\n",
    "        plt.imshow(image)\n",
    "        plt.xticks(color = 'w', fontsize = 0.1)\n",
    "        plt.yticks(color = 'w', fontsize = 0.1)\n",
    "        plt.xlabel(df['name'].values[i], fontsize = 12)\n",
    "        plt.tight_layout(h_pad=0.4, w_pad=0)\n",
    "        plt.subplots_adjust(wspace=None, hspace=None)\n",
    "\n",
    "    plt.show()"
   ]
  },
  {
   "cell_type": "code",
   "execution_count": null,
   "metadata": {},
   "outputs": [],
   "source": []
  }
 ],
 "metadata": {
  "interpreter": {
   "hash": "3cb97f1d83f7509b06d804007dcb96c6ab417962c4fd7570dc4f1a7dc82dce2f"
  },
  "kernelspec": {
   "display_name": "Python 3.8.8 ('dsi-111')",
   "language": "python",
   "name": "python3"
  },
  "language_info": {
   "codemirror_mode": {
    "name": "ipython",
    "version": 3
   },
   "file_extension": ".py",
   "mimetype": "text/x-python",
   "name": "python",
   "nbconvert_exporter": "python",
   "pygments_lexer": "ipython3",
   "version": "3.8.8"
  },
  "orig_nbformat": 4
 },
 "nbformat": 4,
 "nbformat_minor": 2
}
