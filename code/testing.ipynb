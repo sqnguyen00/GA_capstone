{
 "cells": [
  {
   "cell_type": "code",
   "execution_count": 1,
   "metadata": {},
   "outputs": [],
   "source": [
    "import pickle"
   ]
  },
  {
   "cell_type": "code",
   "execution_count": 4,
   "metadata": {},
   "outputs": [],
   "source": [
    "with open('prediction.pkl', 'rb') as f:\n",
    "    x = pickle.load(f)"
   ]
  },
  {
   "cell_type": "code",
   "execution_count": 5,
   "metadata": {},
   "outputs": [
    {
     "data": {
      "text/plain": [
       "36746    1imPiGCRV9jQKShxESv3Tt\n",
       "40425    34OVMKNbZGdYT04LRMx5w9\n",
       "36256    3AnbTDoeMEe5d8oPcuuty2\n",
       "36195    2JR05XLWCeqJRiNktJOlUR\n",
       "27657    2iRA8Hro58IIgSLHlDZRyA\n",
       "                  ...          \n",
       "14719    3SmChKIc5xhIPZjsrmQ7ol\n",
       "36203    4nILP8YPZYeCIQTSyYqVJ4\n",
       "1675     5lOtRTRSUg0OJFd5ircx5R\n",
       "18710    3N0kpiUpck37CXj22GpxK1\n",
       "18696    1ejM8uZuiH95OFqtSm5r0G\n",
       "Name: id, Length: 99, dtype: object"
      ]
     },
     "execution_count": 5,
     "metadata": {},
     "output_type": "execute_result"
    }
   ],
   "source": [
    "x"
   ]
  },
  {
   "cell_type": "code",
   "execution_count": null,
   "metadata": {},
   "outputs": [],
   "source": []
  }
 ],
 "metadata": {
  "interpreter": {
   "hash": "3cb97f1d83f7509b06d804007dcb96c6ab417962c4fd7570dc4f1a7dc82dce2f"
  },
  "kernelspec": {
   "display_name": "Python 3.8.8 64-bit ('dsi-111': conda)",
   "language": "python",
   "name": "python3"
  },
  "language_info": {
   "codemirror_mode": {
    "name": "ipython",
    "version": 3
   },
   "file_extension": ".py",
   "mimetype": "text/x-python",
   "name": "python",
   "nbconvert_exporter": "python",
   "pygments_lexer": "ipython3",
   "version": "3.8.8"
  },
  "orig_nbformat": 4
 },
 "nbformat": 4,
 "nbformat_minor": 2
}
