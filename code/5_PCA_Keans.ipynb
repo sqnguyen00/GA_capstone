{
 "cells": [
  {
   "cell_type": "code",
   "execution_count": 3,
   "metadata": {},
   "outputs": [
    {
     "name": "stderr",
     "output_type": "stream",
     "text": [
      "2022-02-07 13:28:10.689 INFO    numexpr.utils: NumExpr defaulting to 4 threads.\n"
     ]
    }
   ],
   "source": [
    "import pandas as pd\n",
    "import streamlit as st\n",
    "import numpy as np\n",
    "\n",
    "from sklearn.preprocessing import MinMaxScaler\n",
    "from scipy import sparse\n",
    "from sklearn.feature_extraction.text import CountVectorizer, TfidfVectorizer\n",
    "from sklearn.metrics.pairwise import pairwise_distances, cosine_distances, cosine_similarity\n",
    "from scipy import spatial\n",
    "from sklearn.datasets import make_blobs\n",
    "from sklearn.cluster import KMeans\n",
    "from sklearn.preprocessing import StandardScaler\n",
    "from sklearn.metrics import silhouette_score\n",
    "from sklearn.decomposition import PCA\n",
    "\n",
    "#using same code from modeling, adjusting variables\n",
    "music = pd.read_csv('../data/music_data_w_genre.csv')\n",
    "\n",
    "music['release_date']= pd.to_datetime(music['release_date'])\n",
    "music['Seconds']=music['release_date'].map(pd.Timestamp.timestamp)\n",
    "\n",
    "day = 60*60*24\n",
    "year = 365.2425*day\n",
    "music['year'] = np.cos(music['Seconds'] * (2*np.pi/year))\n",
    "music.drop(columns=['duration_ms_y', 'Seconds', 'mode'], inplace = True)\n",
    "float_cols = music.dtypes[music.dtypes == 'float64'].index.values\n",
    "int_cols = music.dtypes[music.dtypes == 'int64'].index.values\n",
    "\n",
    "def create_feature_set(df, float_cols):\n",
    "    tfidf = TfidfVectorizer()\n",
    "    tfidf_matrix =  tfidf.fit_transform(df['Values'])\n",
    "    genre_df = pd.DataFrame(tfidf_matrix.toarray())\n",
    "    genre_df.columns = [i for i in tfidf.get_feature_names()]\n",
    "    genre_df.reset_index(drop = True, inplace=True)\n",
    "\n",
    "    floats = df[float_cols].reset_index(drop = True)\n",
    "    ints =  df[int_cols].reset_index(drop = True)\n",
    "    pop = df[['popularity']].reset_index(drop = True)\n",
    "    scaler = MinMaxScaler()\n",
    "    floats_scaled = pd.DataFrame(scaler.fit_transform(floats), columns = floats.columns)\n",
    "    pop_scaled = pd.DataFrame(scaler.fit_transform(pop), columns = pop.columns) \n",
    "    genre_scaled = pd.DataFrame(scaler.fit_transform(genre_df[genre_df.columns]), columns = genre_df.columns)\n",
    "    ints_scaled = pd.DataFrame(scaler.fit_transform(ints), columns = ints.columns)\n",
    "\n",
    "    final = pd.concat([floats_scaled, pop_scaled, genre_df, ints_scaled], axis = 1)\n",
    "    \n",
    "    final['id']=df['id'].values\n",
    "    \n",
    "    return final\n",
    "\n",
    "features = create_feature_set(music, float_cols=float_cols)\n",
    "\n",
    "features.set_index('id', inplace=True)\n",
    "\n",
    "pca = PCA(n_components=5, random_state = 42)\n",
    "\n",
    "sc = StandardScaler()\n",
    "\n",
    "sc.fit(features)\n",
    "\n",
    "features_sc = sc.transform(features)\n",
    "\n",
    "pca.fit(features_sc)\n",
    "\n",
    "features_pca = pca.transform(features_sc)\n",
    "\n",
    "columns = [f'PCA_{i+1}' for i in pd.DataFrame(features_pca).columns]\n",
    "features_df = pd.DataFrame(data = features_pca, columns=columns)\n",
    "features_df['id'] = music['id']\n",
    "features_df.set_index('id', inplace=True)"
   ]
  },
  {
   "cell_type": "code",
   "execution_count": 4,
   "metadata": {},
   "outputs": [],
   "source": [
    "X1 = features_df.copy()\n",
    "\n",
    "sc = StandardScaler()\n",
    "\n",
    "X1_sc = sc.fit_transform(X1)"
   ]
  },
  {
   "cell_type": "code",
   "execution_count": 5,
   "metadata": {},
   "outputs": [
    {
     "data": {
      "text/plain": [
       "KMeans(n_clusters=3, random_state=42)"
      ]
     },
     "execution_count": 5,
     "metadata": {},
     "output_type": "execute_result"
    }
   ],
   "source": [
    "k = 3\n",
    "km = KMeans(n_clusters=k, random_state=42)\n",
    "km.fit(X1_sc)"
   ]
  },
  {
   "cell_type": "code",
   "execution_count": 6,
   "metadata": {},
   "outputs": [
    {
     "data": {
      "text/plain": [
       "array([[ 1.87592312e-04, -4.90079168e-03,  1.05513643e-04,\n",
       "        -3.45501514e-03, -2.20761908e-04],\n",
       "       [-6.98926447e+00,  2.03080705e+02,  3.11475821e-01,\n",
       "         2.97907725e-01,  2.06930120e+00],\n",
       "       [-1.53310411e+00, -9.24748735e-01, -9.34766379e+00,\n",
       "         2.85092477e+02,  1.41157582e+01]])"
      ]
     },
     "execution_count": 6,
     "metadata": {},
     "output_type": "execute_result"
    }
   ],
   "source": [
    "km.cluster_centers_"
   ]
  },
  {
   "cell_type": "code",
   "execution_count": 7,
   "metadata": {},
   "outputs": [
    {
     "data": {
      "text/plain": [
       "array([0, 0, 0, ..., 0, 0, 0], dtype=int32)"
      ]
     },
     "execution_count": 7,
     "metadata": {},
     "output_type": "execute_result"
    }
   ],
   "source": [
    "km.labels_"
   ]
  },
  {
   "cell_type": "code",
   "execution_count": 8,
   "metadata": {},
   "outputs": [],
   "source": [
    "pred = km.predict(X1_sc)"
   ]
  },
  {
   "cell_type": "code",
   "execution_count": 9,
   "metadata": {},
   "outputs": [],
   "source": [
    "features_df['cluster'] = km.labels_"
   ]
  },
  {
   "cell_type": "code",
   "execution_count": 10,
   "metadata": {},
   "outputs": [
    {
     "data": {
      "text/html": [
       "<div>\n",
       "<style scoped>\n",
       "    .dataframe tbody tr th:only-of-type {\n",
       "        vertical-align: middle;\n",
       "    }\n",
       "\n",
       "    .dataframe tbody tr th {\n",
       "        vertical-align: top;\n",
       "    }\n",
       "\n",
       "    .dataframe thead th {\n",
       "        text-align: right;\n",
       "    }\n",
       "</style>\n",
       "<table border=\"1\" class=\"dataframe\">\n",
       "  <thead>\n",
       "    <tr style=\"text-align: right;\">\n",
       "      <th></th>\n",
       "      <th>PCA_1</th>\n",
       "      <th>PCA_2</th>\n",
       "      <th>PCA_3</th>\n",
       "      <th>PCA_4</th>\n",
       "      <th>PCA_5</th>\n",
       "      <th>cluster</th>\n",
       "    </tr>\n",
       "    <tr>\n",
       "      <th>id</th>\n",
       "      <th></th>\n",
       "      <th></th>\n",
       "      <th></th>\n",
       "      <th></th>\n",
       "      <th></th>\n",
       "      <th></th>\n",
       "    </tr>\n",
       "  </thead>\n",
       "  <tbody>\n",
       "    <tr>\n",
       "      <th>3egj44N2tiuW5F2MrqmBjW</th>\n",
       "      <td>-0.238289</td>\n",
       "      <td>-0.016405</td>\n",
       "      <td>0.204194</td>\n",
       "      <td>0.023664</td>\n",
       "      <td>-0.421243</td>\n",
       "      <td>0</td>\n",
       "    </tr>\n",
       "    <tr>\n",
       "      <th>1WAWbKpQe3XMp4b96bjazD</th>\n",
       "      <td>-0.265159</td>\n",
       "      <td>-0.019199</td>\n",
       "      <td>0.375159</td>\n",
       "      <td>0.007361</td>\n",
       "      <td>-0.136620</td>\n",
       "      <td>0</td>\n",
       "    </tr>\n",
       "    <tr>\n",
       "      <th>1HFIgvDlSCjC95Ch6h6gF7</th>\n",
       "      <td>-0.425057</td>\n",
       "      <td>-0.018486</td>\n",
       "      <td>0.662985</td>\n",
       "      <td>0.030375</td>\n",
       "      <td>-0.204053</td>\n",
       "      <td>0</td>\n",
       "    </tr>\n",
       "    <tr>\n",
       "      <th>0mEYJIIBcUt2GH4ftYKJ5Q</th>\n",
       "      <td>-0.183932</td>\n",
       "      <td>-0.010588</td>\n",
       "      <td>0.189510</td>\n",
       "      <td>0.019291</td>\n",
       "      <td>-0.473590</td>\n",
       "      <td>0</td>\n",
       "    </tr>\n",
       "    <tr>\n",
       "      <th>0vQ5VW753vuqUdi4mipjVl</th>\n",
       "      <td>-0.285411</td>\n",
       "      <td>-0.008498</td>\n",
       "      <td>0.321663</td>\n",
       "      <td>0.032669</td>\n",
       "      <td>-0.492147</td>\n",
       "      <td>0</td>\n",
       "    </tr>\n",
       "  </tbody>\n",
       "</table>\n",
       "</div>"
      ],
      "text/plain": [
       "                           PCA_1     PCA_2     PCA_3     PCA_4     PCA_5  \\\n",
       "id                                                                         \n",
       "3egj44N2tiuW5F2MrqmBjW -0.238289 -0.016405  0.204194  0.023664 -0.421243   \n",
       "1WAWbKpQe3XMp4b96bjazD -0.265159 -0.019199  0.375159  0.007361 -0.136620   \n",
       "1HFIgvDlSCjC95Ch6h6gF7 -0.425057 -0.018486  0.662985  0.030375 -0.204053   \n",
       "0mEYJIIBcUt2GH4ftYKJ5Q -0.183932 -0.010588  0.189510  0.019291 -0.473590   \n",
       "0vQ5VW753vuqUdi4mipjVl -0.285411 -0.008498  0.321663  0.032669 -0.492147   \n",
       "\n",
       "                        cluster  \n",
       "id                               \n",
       "3egj44N2tiuW5F2MrqmBjW        0  \n",
       "1WAWbKpQe3XMp4b96bjazD        0  \n",
       "1HFIgvDlSCjC95Ch6h6gF7        0  \n",
       "0mEYJIIBcUt2GH4ftYKJ5Q        0  \n",
       "0vQ5VW753vuqUdi4mipjVl        0  "
      ]
     },
     "execution_count": 10,
     "metadata": {},
     "output_type": "execute_result"
    }
   ],
   "source": [
    "features_df.head()"
   ]
  },
  {
   "cell_type": "code",
   "execution_count": 11,
   "metadata": {},
   "outputs": [],
   "source": [
    "def similarity(id1, id2):\n",
    "    a = features_df.drop(columns=['cluster']).loc[[id1]]\n",
    "    b = features_df.drop(columns=['cluster']).loc[[id2]]\n",
    "\n",
    "    distance = spatial.distance.cosine(a[a.columns], b[b.columns])\n",
    "    return distance"
   ]
  },
  {
   "cell_type": "code",
   "execution_count": 12,
   "metadata": {},
   "outputs": [],
   "source": [
    "def songs2(id):\n",
    "    distances = {}\n",
    "    group = features_df.loc[features_df['cluster'] == features_df[\"cluster\"].loc[id]]\n",
    "    float_cols = group.dtypes[group.dtypes == 'float64'].index.values\n",
    "    for i in list(group[float_cols].index):\n",
    "        dist = similarity(id, i)\n",
    "        distances.update({i:dist})\n",
    "    return distances "
   ]
  },
  {
   "cell_type": "code",
   "execution_count": 13,
   "metadata": {},
   "outputs": [],
   "source": [
    "feature_recs = songs2('08mG3Y1vljYA6bvDt4Wqkj')"
   ]
  },
  {
   "cell_type": "code",
   "execution_count": 14,
   "metadata": {},
   "outputs": [],
   "source": [
    "feature_rec_df = pd.DataFrame(feature_recs.items())\n",
    "feature_rec_df = feature_rec_df.sort_values(by=1)\n",
    "final = feature_rec_df.head(20)"
   ]
  },
  {
   "cell_type": "code",
   "execution_count": 15,
   "metadata": {},
   "outputs": [
    {
     "data": {
      "text/plain": [
       "0.9906444134824692"
      ]
     },
     "execution_count": 15,
     "metadata": {},
     "output_type": "execute_result"
    }
   ],
   "source": [
    "silhouette_score(X1_sc, km.labels_)"
   ]
  },
  {
   "cell_type": "code",
   "execution_count": 16,
   "metadata": {},
   "outputs": [
    {
     "data": {
      "text/plain": [
       "256750.22686941"
      ]
     },
     "execution_count": 16,
     "metadata": {},
     "output_type": "execute_result"
    }
   ],
   "source": [
    "cl = KMeans(n_clusters=k)\n",
    "cl.fit(X1_sc)\n",
    "inertia = cl.inertia_\n",
    "inertia"
   ]
  },
  {
   "cell_type": "code",
   "execution_count": 17,
   "metadata": {},
   "outputs": [
    {
     "name": "stdout",
     "output_type": "stream",
     "text": [
      "      artist           name\n",
      "80009  AC/DC  Back In Black\n",
      "        artist        name\n",
      "36169  Chromeo  Call Me Up\n",
      "        artist                                  name\n",
      "36063  Chromeo  Lost on the Way Home (feat. Solange)\n",
      "        artist                                  name\n",
      "36087  Chromeo  Lost on the Way Home (feat. Solange)\n",
      "          artist        name\n",
      "80737  blink-182  First Date\n",
      "      artist               name\n",
      "79868  AC/DC  Rock N Roll Train\n",
      "             artist            name\n",
      "79382  Fall Out Boy  Alone Together\n",
      "         artist                                        name\n",
      "82238  The 1975  Girls - Live From The O2, London. 16.12.16\n",
      "              artist                name\n",
      "82684  Kings of Leon  California Waiting\n",
      "              artist        name\n",
      "82658  Kings of Leon  The Bucket\n",
      "            artist      name\n",
      "54946  cleopatrick  WHY JULY\n",
      "              artist  name\n",
      "82575  Kings of Leon  Pyro\n",
      "              artist name\n",
      "82622  Kings of Leon   17\n",
      "          artist                  name\n",
      "80718  blink-182  I'm Lost Without You\n",
      "      artist            name\n",
      "80017  AC/DC  Touch Too Much\n",
      "        artist    name\n",
      "81523  Nirvana  Sliver\n",
      "             artist                      name\n",
      "79491  Fall Out Boy  Beat It - Studio Version\n",
      "         artist                                               name\n",
      "82255  The 1975  Loving Someone - Live From The O2, London. 16....\n",
      "         artist     name\n",
      "82443  The 1975  Robbers\n",
      "              artist         name\n",
      "82625  Kings of Leon  Be Somebody\n"
     ]
    }
   ],
   "source": [
    "for i in final[0]:\n",
    "    print(music[['artist', 'name']].loc[music['id']==i])"
   ]
  }
 ],
 "metadata": {
  "interpreter": {
   "hash": "3cb97f1d83f7509b06d804007dcb96c6ab417962c4fd7570dc4f1a7dc82dce2f"
  },
  "kernelspec": {
   "display_name": "Python 3.8.8 ('dsi-111')",
   "language": "python",
   "name": "python3"
  },
  "language_info": {
   "codemirror_mode": {
    "name": "ipython",
    "version": 3
   },
   "file_extension": ".py",
   "mimetype": "text/x-python",
   "name": "python",
   "nbconvert_exporter": "python",
   "pygments_lexer": "ipython3",
   "version": "3.8.8"
  },
  "orig_nbformat": 4
 },
 "nbformat": 4,
 "nbformat_minor": 2
}
