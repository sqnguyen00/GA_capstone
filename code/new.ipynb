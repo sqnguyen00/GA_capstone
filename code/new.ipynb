{
 "cells": [
  {
   "cell_type": "code",
   "execution_count": 62,
   "metadata": {},
   "outputs": [],
   "source": [
    "import spotipy\n",
    "from spotipy.oauth2 import SpotifyClientCredentials\n",
    "import pandas as pd"
   ]
  },
  {
   "cell_type": "code",
   "execution_count": 63,
   "metadata": {},
   "outputs": [],
   "source": [
    "client_id= #client id input\n",
    "client_secret= #client secret input"
   ]
  },
  {
   "cell_type": "code",
   "execution_count": 64,
   "metadata": {},
   "outputs": [],
   "source": [
    "client_credentials_manager = SpotifyClientCredentials(\n",
    "    client_id=client_id, \n",
    "    client_secret=client_secret\n",
    ")\n",
    "\n",
    "sp = spotipy.Spotify(client_credentials_manager=client_credentials_manager)\n",
    "\n",
    "name = "
   ]
  },
  {
   "cell_type": "code",
   "execution_count": 65,
   "metadata": {},
   "outputs": [],
   "source": [
    "result = []\n",
    "for i in name:\n",
    "    result.append(sp.search(i))"
   ]
  },
  {
   "cell_type": "code",
   "execution_count": 66,
   "metadata": {},
   "outputs": [],
   "source": [
    "uris = []\n",
    "for i in result:\n",
    "    uris.append(i['tracks']['items'][0]['artists'])"
   ]
  },
  {
   "cell_type": "code",
   "execution_count": 67,
   "metadata": {},
   "outputs": [],
   "source": [
    "artists_uris = []\n",
    "for i in uris:\n",
    "    for ob in i:\n",
    "        artists_uris.append(ob.get('id'))\n",
    "\n",
    "artist_albums = []\n",
    "for i in artists_uris:\n",
    "    artist_albums.append(sp.artist_albums(i, album_type='album'))\n",
    "\n",
    "artist_album_names = []\n",
    "artist_album_uris = []\n",
    "artist_albums\n",
    "for i in artist_albums:\n",
    "    for object in range(len(i['items'])):\n",
    "        artist_album_names.append(i['items'][object]['name'])\n",
    "        artist_album_uris.append(i['items'][object]['uri'])"
   ]
  },
  {
   "cell_type": "code",
   "execution_count": 68,
   "metadata": {},
   "outputs": [],
   "source": [
    "new_list = [s.replace(\"spotify:album:\", \"\") for s in artist_album_uris]"
   ]
  },
  {
   "cell_type": "code",
   "execution_count": 69,
   "metadata": {},
   "outputs": [],
   "source": [
    "def album_songs(uri):\n",
    "    album = uri \n",
    "    spotify_albums[album] = {}\n",
    "   \n",
    "    spotify_albums[album]['album'] = [] \n",
    "    spotify_albums[album]['track_number'] = []\n",
    "    spotify_albums[album]['id'] = []\n",
    "    spotify_albums[album]['name'] = []\n",
    "    spotify_albums[album]['uri'] = []\n",
    "\n",
    "    tracks = sp.album_tracks(album)\n",
    "     \n",
    "    for n in range(len(tracks['items'])): \n",
    "        spotify_albums[album]['album'].append(artist_album_names[album_count]) \n",
    "        spotify_albums[album]['track_number'].append(tracks['items'][n]['track_number'])\n",
    "        spotify_albums[album]['id'].append(tracks['items'][n]['id'])\n",
    "        spotify_albums[album]['name'].append(tracks['items'][n]['name'])\n",
    "        spotify_albums[album]['uri'].append(tracks['items'][n]['uri'])\n"
   ]
  },
  {
   "cell_type": "code",
   "execution_count": 70,
   "metadata": {},
   "outputs": [
    {
     "name": "stdout",
     "output_type": "stream",
     "text": [
      "465\n"
     ]
    }
   ],
   "source": [
    "spotify_albums = {}\n",
    "album_count = 0\n",
    "\n",
    "for i in new_list:\n",
    "    album_songs(i)\n",
    "    album_count += 1\n",
    "print(album_count)\n",
    "    "
   ]
  },
  {
   "cell_type": "code",
   "execution_count": 71,
   "metadata": {},
   "outputs": [
    {
     "name": "stdout",
     "output_type": "stream",
     "text": [
      "Request is working\n",
      "Request is working\n",
      "Request is working\n",
      "Request is working\n",
      "Request is working\n",
      "Request is working\n",
      "Request is working\n",
      "Request is working\n",
      "Request is working\n",
      "Request is working\n",
      "Request is working\n",
      "Request is working\n",
      "Request is working\n",
      "Request is working\n",
      "Request is working\n",
      "Request is working\n",
      "Request is working\n",
      "Request is working\n",
      "Request is working\n",
      "Request is working\n",
      "Request is working\n",
      "Request is working\n",
      "Request is working\n",
      "Request is working\n",
      "Request is working\n",
      "Request is working\n",
      "Request is working\n",
      "Request is working\n",
      "Request is working\n",
      "Request is working\n",
      "Request is working\n",
      "Request is working\n",
      "Request is working\n",
      "Request is working\n",
      "Request is working\n",
      "Request is working\n",
      "Request is working\n",
      "Request is working\n",
      "Request is working\n",
      "Request is working\n",
      "Request is working\n",
      "Request is working\n",
      "Request is working\n",
      "Request is working\n",
      "Request is working\n",
      "Request is working\n",
      "Request is working\n",
      "Request is working\n",
      "Request is working\n",
      "Request is working\n",
      "Request is working\n",
      "Request is working\n",
      "Request is working\n",
      "Request is working\n",
      "Request is working\n",
      "Request is working\n",
      "Request is working\n",
      "Request is working\n",
      "Request is working\n",
      "Request is working\n",
      "Request is working\n",
      "Request is working\n",
      "Request is working\n",
      "Request is working\n",
      "Request is working\n",
      "Request is working\n",
      "Request is working\n",
      "Request is working\n",
      "Request is working\n",
      "Request is working\n",
      "Request is working\n",
      "Request is working\n",
      "Request is working\n",
      "Request is working\n",
      "Request is working\n",
      "Request is working\n",
      "Request is working\n",
      "Request is working\n",
      "Request is working\n",
      "Request is working\n",
      "Request is working\n",
      "Request is working\n",
      "Request is working\n",
      "Request is working\n",
      "Request is working\n",
      "Request is working\n",
      "Request is working\n",
      "Request is working\n",
      "Request is working\n",
      "Request is working\n",
      "Request is working\n",
      "Request is working\n",
      "Request is working\n",
      "Request is working\n",
      "Request is working\n",
      "Request is working\n",
      "Request is working\n",
      "Request is working\n",
      "Request is working\n",
      "Request is working\n",
      "Request is working\n",
      "Request is working\n",
      "Request is working\n",
      "Request is working\n",
      "Request is working\n",
      "Request is working\n",
      "Request is working\n",
      "Request is working\n",
      "Request is working\n",
      "Request is working\n",
      "Request is working\n"
     ]
    }
   ],
   "source": [
    "import time\n",
    "import numpy as np\n",
    "sleep_min = 2\n",
    "sleep_max = 5\n",
    "start_time = time.time()\n",
    "features = []\n",
    "pop = []\n",
    "request_count = 0\n",
    "for i in spotify_albums:\n",
    "    for track in spotify_albums[i]['uri']:\n",
    "        features.append(sp.audio_features(track))\n",
    "        request_count += 1\n",
    "        pop.append(sp.track(track))\n",
    "        request_count += 1\n",
    "        if request_count % 100 == 0:\n",
    "            time.sleep(np.random.uniform(sleep_min, sleep_max))\n",
    "            print('Request is working')\n",
    "            \n",
    "        \n"
   ]
  },
  {
   "cell_type": "code",
   "execution_count": 74,
   "metadata": {},
   "outputs": [],
   "source": [
    "features_dict = []\n",
    "for i in features:\n",
    "    for d in i:\n",
    "       features_dict.append(d)\n",
    "    "
   ]
  },
  {
   "cell_type": "code",
   "execution_count": 79,
   "metadata": {},
   "outputs": [],
   "source": [
    "uri_dict = []\n",
    "for i in uris:\n",
    "    for d in i:\n",
    "        uri_dict.append(d)\n"
   ]
  },
  {
   "cell_type": "code",
   "execution_count": 87,
   "metadata": {},
   "outputs": [],
   "source": [
    "#regenerating dict for missing vals\n",
    "#https://stackoverflow.com/questions/57725059/list-of-dict-to-pandas-df-nonetype-object-has-no-attribute-keys\n",
    "features_dict = [i for i in features_dict if i is not None]"
   ]
  },
  {
   "cell_type": "code",
   "execution_count": 72,
   "metadata": {},
   "outputs": [],
   "source": [
    "popular_df = pd.DataFrame(pop)"
   ]
  },
  {
   "cell_type": "code",
   "execution_count": 78,
   "metadata": {},
   "outputs": [],
   "source": [
    "feat_df = pd.DataFrame(features_dict)"
   ]
  },
  {
   "cell_type": "code",
   "execution_count": 81,
   "metadata": {},
   "outputs": [],
   "source": [
    "uri_df = pd.DataFrame(uri_dict)"
   ]
  },
  {
   "cell_type": "code",
   "execution_count": 82,
   "metadata": {},
   "outputs": [],
   "source": [
    "popular_df.to_csv('rap2_track_popularity.csv')"
   ]
  },
  {
   "cell_type": "code",
   "execution_count": 83,
   "metadata": {},
   "outputs": [],
   "source": [
    "feat_df.to_csv('rap2_track_features.csv')"
   ]
  }
 ],
 "metadata": {
  "interpreter": {
   "hash": "3cb97f1d83f7509b06d804007dcb96c6ab417962c4fd7570dc4f1a7dc82dce2f"
  },
  "kernelspec": {
   "display_name": "Python 3.8.8 64-bit (conda)",
   "language": "python",
   "name": "python3"
  },
  "language_info": {
   "codemirror_mode": {
    "name": "ipython",
    "version": 3
   },
   "file_extension": ".py",
   "mimetype": "text/x-python",
   "name": "python",
   "nbconvert_exporter": "python",
   "pygments_lexer": "ipython3",
   "version": "3.8.8"
  },
  "orig_nbformat": 4
 },
 "nbformat": 4,
 "nbformat_minor": 2
}
