{
 "cells": [
  {
   "cell_type": "code",
   "execution_count": 233,
   "metadata": {},
   "outputs": [],
   "source": [
    "import spotipy\n",
    "from spotipy.oauth2 import SpotifyClientCredentials\n",
    "import pandas as pd\n",
    "import time\n",
    "import numpy as np"
   ]
  },
  {
   "cell_type": "code",
   "execution_count": 234,
   "metadata": {},
   "outputs": [],
   "source": [
    "client_id= \n",
    "client_secret= "
   ]
  },
  {
   "cell_type": "code",
   "execution_count": 235,
   "metadata": {},
   "outputs": [],
   "source": [
    "client_credentials_manager = SpotifyClientCredentials(\n",
    "    client_id=client_id, \n",
    "    client_secret=client_secret\n",
    ")\n",
    "\n",
    "sp = spotipy.Spotify(client_credentials_manager=client_credentials_manager)\n",
    "\n",
    "name = ['Elk Road',\n",
    "'Ellie Goulding',\n",
    "'Excision',\n",
    "'Fedde Le Grand',\n",
    "'FIGURE',\n",
    "'Flosstradamus',\n",
    "'Flume',\n",
    "'Flux Pavilion',\n",
    "'Frankie Knuckles',\n",
    "'gLAdiator',\n",
    "'Gorgon City',\n",
    "'Gramatik',\n",
    "'GRiZ',\n",
    "'Hardwell',\n",
    "'heRobust',\n",
    "'Hyper Crush',\n",
    "'Infected Mushroom',\n",
    "'Jack U',\n",
    "'James Egbert',\n",
    "'Jamie Berry',\n",
    "'Justice',\n",
    "'Justin Martin',\n",
    "'Kap Slap',\n",
    "'Kastle',\n",
    "'Kaytranada',\n",
    "'KDrew',\n",
    "'Keys N Krates',\n",
    "'Kill Paris',\n",
    "'Kill The Noise',\n",
    "'Kungs',\n",
    "'Knife Party',\n",
    "'Kygo']"
   ]
  },
  {
   "cell_type": "code",
   "execution_count": 236,
   "metadata": {},
   "outputs": [],
   "source": [
    "result = []\n",
    "result_count = 0\n",
    "sleep_min = 2\n",
    "sleep_max = 5\n",
    "start_time = time.time()\n",
    "for i in name:\n",
    "    result.append(sp.search(i))\n",
    "    result_count += 1\n",
    "    if result_count % 25 == 0:\n",
    "            time.sleep(np.random.uniform(sleep_min, sleep_max))"
   ]
  },
  {
   "cell_type": "code",
   "execution_count": 237,
   "metadata": {},
   "outputs": [],
   "source": [
    "uris = []\n",
    "uri_count = 0\n",
    "for i in result:\n",
    "    uris.append(i['tracks']['items'][0]['artists'])\n",
    "    uri_count += 1\n",
    "    if uri_count % 50 == 0:\n",
    "            time.sleep(np.random.uniform(sleep_min, sleep_max))"
   ]
  },
  {
   "cell_type": "code",
   "execution_count": 238,
   "metadata": {},
   "outputs": [],
   "source": [
    "artists_uris = []\n",
    "for i in uris:\n",
    "    for ob in i:\n",
    "        artists_uris.append(ob.get('id'))\n",
    "\n",
    "artist_albums = []\n",
    "artist_album_count = 0\n",
    "for i in artists_uris:\n",
    "    artist_albums.append(sp.artist_albums(i, album_type='album'))\n",
    "    if artist_album_count % 50 == 0:\n",
    "            time.sleep(np.random.uniform(sleep_min, sleep_max))\n",
    "\n",
    "artist_album_names = []\n",
    "artist_album_uris = []\n",
    "artist_albums\n",
    "for i in artist_albums:\n",
    "    for object in range(len(i['items'])):\n",
    "        artist_album_names.append(i['items'][object]['name'])\n",
    "        artist_album_uris.append(i['items'][object]['uri'])"
   ]
  },
  {
   "cell_type": "code",
   "execution_count": 239,
   "metadata": {},
   "outputs": [],
   "source": [
    "new_list = [s.replace(\"spotify:album:\", \"\") for s in artist_album_uris]"
   ]
  },
  {
   "cell_type": "code",
   "execution_count": 240,
   "metadata": {},
   "outputs": [],
   "source": [
    "def album_songs(uri):\n",
    "    album = uri \n",
    "    spotify_albums[album] = {}\n",
    "   \n",
    "    spotify_albums[album]['album'] = [] \n",
    "    spotify_albums[album]['track_number'] = []\n",
    "    spotify_albums[album]['id'] = []\n",
    "    spotify_albums[album]['name'] = []\n",
    "    spotify_albums[album]['uri'] = []\n",
    "\n",
    "    tracks = sp.album_tracks(album)\n",
    "     \n",
    "    for n in range(len(tracks['items'])): \n",
    "        spotify_albums[album]['album'].append(artist_album_names[album_count]) \n",
    "        spotify_albums[album]['track_number'].append(tracks['items'][n]['track_number'])\n",
    "        spotify_albums[album]['id'].append(tracks['items'][n]['id'])\n",
    "        spotify_albums[album]['name'].append(tracks['items'][n]['name'])\n",
    "        spotify_albums[album]['uri'].append(tracks['items'][n]['uri'])\n"
   ]
  },
  {
   "cell_type": "code",
   "execution_count": 241,
   "metadata": {},
   "outputs": [
    {
     "name": "stdout",
     "output_type": "stream",
     "text": [
      "(100.0 Albums now in Library\n",
      "(200.0 Albums now in Library\n",
      "(300.0 Albums now in Library\n",
      "(400.0 Albums now in Library\n",
      "Total albums: 462\n"
     ]
    }
   ],
   "source": [
    "spotify_albums = {}\n",
    "album_count = 0\n",
    "\n",
    "for i in new_list:\n",
    "    album_songs(i)\n",
    "    album_count += 1\n",
    "    if album_count % 50 == 0:\n",
    "            time.sleep(np.random.uniform(sleep_min, sleep_max))\n",
    "    if album_count % 100 == 0:\n",
    "            print(f'({(album_count/100) * 100} Albums now in Library')\n",
    "print(f'Total albums: {album_count}')"
   ]
  },
  {
   "cell_type": "code",
   "execution_count": 243,
   "metadata": {},
   "outputs": [
    {
     "name": "stdout",
     "output_type": "stream",
     "text": [
      "500.0 Songs now in Library\n",
      "1000.0 Songs now in Library\n",
      "1500.0 Songs now in Library\n",
      "2000.0 Songs now in Library\n",
      "2500.0 Songs now in Library\n",
      "3000.0 Songs now in Library\n",
      "3500.0 Songs now in Library\n",
      "4000.0 Songs now in Library\n",
      "4500.0 Songs now in Library\n",
      "5000.0 Songs now in Library\n",
      "5500.0 Songs now in Library\n",
      "6000.0 Songs now in Library\n",
      "6500.0 Songs now in Library\n",
      "7000.0 Songs now in Library\n"
     ]
    }
   ],
   "source": [
    "sleep_min = 5\n",
    "sleep_max = 60\n",
    "features = []\n",
    "pop = []\n",
    "request_count = 0\n",
    "for i in spotify_albums:\n",
    "    for track in spotify_albums[i]['uri']:\n",
    "        features.append(sp.audio_features(track))\n",
    "        request_count += .5\n",
    "        pop.append(sp.track(track))\n",
    "        request_count += .5\n",
    "        if request_count % 50 == 0:\n",
    "            time.sleep(np.random.uniform(sleep_min, sleep_max))\n",
    "        if request_count % 500 == 0:\n",
    "            print(f'{(request_count/500) * 500} Songs now in Library')\n",
    "            \n",
    "        \n"
   ]
  },
  {
   "cell_type": "code",
   "execution_count": 244,
   "metadata": {},
   "outputs": [],
   "source": [
    "features_dict = []\n",
    "for i in features:\n",
    "    for d in i:\n",
    "       features_dict.append(d)\n",
    "    "
   ]
  },
  {
   "cell_type": "code",
   "execution_count": 245,
   "metadata": {},
   "outputs": [],
   "source": [
    "#regenerating dict for missing vals\n",
    "#https://stackoverflow.com/questions/57725059/list-of-dict-to-pandas-df-nonetype-object-has-no-attribute-keys\n",
    "features_dict = [i for i in features_dict if i is not None]"
   ]
  },
  {
   "cell_type": "code",
   "execution_count": null,
   "metadata": {},
   "outputs": [],
   "source": []
  },
  {
   "cell_type": "code",
   "execution_count": 246,
   "metadata": {},
   "outputs": [],
   "source": [
    "popular_df = pd.DataFrame(pop)"
   ]
  },
  {
   "cell_type": "code",
   "execution_count": 247,
   "metadata": {},
   "outputs": [],
   "source": [
    "feat_df = pd.DataFrame(features_dict)"
   ]
  },
  {
   "cell_type": "code",
   "execution_count": 252,
   "metadata": {},
   "outputs": [],
   "source": [
    "popular_df.to_csv('edm5_track_popularity.csv')"
   ]
  },
  {
   "cell_type": "code",
   "execution_count": 253,
   "metadata": {},
   "outputs": [],
   "source": [
    "feat_df.to_csv('edm5_track_features.csv')"
   ]
  },
  {
   "cell_type": "code",
   "execution_count": null,
   "metadata": {},
   "outputs": [],
   "source": []
  }
 ],
 "metadata": {
  "interpreter": {
   "hash": "3cb97f1d83f7509b06d804007dcb96c6ab417962c4fd7570dc4f1a7dc82dce2f"
  },
  "kernelspec": {
   "display_name": "Python 3.8.8 64-bit (conda)",
   "language": "python",
   "name": "python3"
  },
  "language_info": {
   "codemirror_mode": {
    "name": "ipython",
    "version": 3
   },
   "file_extension": ".py",
   "mimetype": "text/x-python",
   "name": "python",
   "nbconvert_exporter": "python",
   "pygments_lexer": "ipython3",
   "version": "3.8.8"
  },
  "orig_nbformat": 4
 },
 "nbformat": 4,
 "nbformat_minor": 2
}
